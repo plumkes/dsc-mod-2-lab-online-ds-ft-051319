{
 "cells": [
  {
   "cell_type": "markdown",
   "metadata": {},
   "source": [
    "**Table: Matches** ----------   24,625 x 9\t\n",
    "\n",
    "* Match_ID (int): unique ID per match\n",
    "* Div (str): identifies the division the match was played in (D1 = Bundesliga, D2 = Bundesliga 2, E0 = English Premier League)\n",
    "* Season (int): Season the match took place in (usually covering the period of August till May of the following year)\n",
    "* Date (str): Date of the match\n",
    "* HomeTeam (str): Name of the home team\n",
    "* AwayTeam (str): Name of the away team\n",
    "* FTHG (int) (Full Time Home Goals): Number of goals scored by the home team\n",
    "* FTAG (int) (Full Time Away Goals): Number of goals scored by the away team\n",
    "* FTR (str) (Full Time Result): 3-way result of the match (H = Home Win, D = Draw, A = Away Win)"
   ]
  },
  {
   "cell_type": "code",
   "execution_count": 35,
   "metadata": {},
   "outputs": [
    {
     "data": {
      "text/html": [
       "<div>\n",
       "<style scoped>\n",
       "    .dataframe tbody tr th:only-of-type {\n",
       "        vertical-align: middle;\n",
       "    }\n",
       "\n",
       "    .dataframe tbody tr th {\n",
       "        vertical-align: top;\n",
       "    }\n",
       "\n",
       "    .dataframe thead th {\n",
       "        text-align: right;\n",
       "    }\n",
       "</style>\n",
       "<table border=\"1\" class=\"dataframe\">\n",
       "  <thead>\n",
       "    <tr style=\"text-align: right;\">\n",
       "      <th></th>\n",
       "      <th>Match_ID</th>\n",
       "      <th>Div</th>\n",
       "      <th>Season</th>\n",
       "      <th>Date</th>\n",
       "      <th>HomeTeam</th>\n",
       "      <th>AwayTeam</th>\n",
       "      <th>FTHG</th>\n",
       "      <th>FTAG</th>\n",
       "      <th>FTR</th>\n",
       "    </tr>\n",
       "  </thead>\n",
       "  <tbody>\n",
       "    <tr>\n",
       "      <th>0</th>\n",
       "      <td>1</td>\n",
       "      <td>D2</td>\n",
       "      <td>2009</td>\n",
       "      <td>2010-04-04</td>\n",
       "      <td>Oberhausen</td>\n",
       "      <td>Kaiserslautern</td>\n",
       "      <td>2</td>\n",
       "      <td>1</td>\n",
       "      <td>H</td>\n",
       "    </tr>\n",
       "    <tr>\n",
       "      <th>1</th>\n",
       "      <td>2</td>\n",
       "      <td>D2</td>\n",
       "      <td>2009</td>\n",
       "      <td>2009-11-01</td>\n",
       "      <td>Munich 1860</td>\n",
       "      <td>Kaiserslautern</td>\n",
       "      <td>0</td>\n",
       "      <td>1</td>\n",
       "      <td>A</td>\n",
       "    </tr>\n",
       "    <tr>\n",
       "      <th>2</th>\n",
       "      <td>3</td>\n",
       "      <td>D2</td>\n",
       "      <td>2009</td>\n",
       "      <td>2009-10-04</td>\n",
       "      <td>Frankfurt FSV</td>\n",
       "      <td>Kaiserslautern</td>\n",
       "      <td>1</td>\n",
       "      <td>1</td>\n",
       "      <td>D</td>\n",
       "    </tr>\n",
       "    <tr>\n",
       "      <th>3</th>\n",
       "      <td>4</td>\n",
       "      <td>D2</td>\n",
       "      <td>2009</td>\n",
       "      <td>2010-02-21</td>\n",
       "      <td>Frankfurt FSV</td>\n",
       "      <td>Karlsruhe</td>\n",
       "      <td>2</td>\n",
       "      <td>1</td>\n",
       "      <td>H</td>\n",
       "    </tr>\n",
       "    <tr>\n",
       "      <th>4</th>\n",
       "      <td>5</td>\n",
       "      <td>D2</td>\n",
       "      <td>2009</td>\n",
       "      <td>2009-12-06</td>\n",
       "      <td>Ahlen</td>\n",
       "      <td>Karlsruhe</td>\n",
       "      <td>1</td>\n",
       "      <td>3</td>\n",
       "      <td>A</td>\n",
       "    </tr>\n",
       "  </tbody>\n",
       "</table>\n",
       "</div>"
      ],
      "text/plain": [
       "   Match_ID Div  Season        Date       HomeTeam        AwayTeam  FTHG  \\\n",
       "0         1  D2    2009  2010-04-04     Oberhausen  Kaiserslautern     2   \n",
       "1         2  D2    2009  2009-11-01    Munich 1860  Kaiserslautern     0   \n",
       "2         3  D2    2009  2009-10-04  Frankfurt FSV  Kaiserslautern     1   \n",
       "3         4  D2    2009  2010-02-21  Frankfurt FSV       Karlsruhe     2   \n",
       "4         5  D2    2009  2009-12-06          Ahlen       Karlsruhe     1   \n",
       "\n",
       "   FTAG FTR  \n",
       "0     1   H  \n",
       "1     1   A  \n",
       "2     1   D  \n",
       "3     1   H  \n",
       "4     3   A  "
      ]
     },
     "execution_count": 35,
     "metadata": {},
     "output_type": "execute_result"
    }
   ],
   "source": [
    "df_matches.head()"
   ]
  },
  {
   "cell_type": "markdown",
   "metadata": {},
   "source": [
    "**Table: Teams** ---------- 468 x 8\n",
    "\n",
    "* Season (str): Football season for which the data is valid\n",
    "* TeamName (str): Name of the team the data concerns\n",
    "* KaderHome (str): Number of Players in the squad\n",
    "* AvgAgeHome (str): Average age of players\n",
    "* ForeignPlayersHome (str): Number of foreign players (non-German, non-English respectively) playing for the team\n",
    "* OverallMarketValueHome (str): Overall market value of the team pre-season in EUR (based on data from transfermarkt.de)\n",
    "* AvgMarketValueHome (str): Average market value (per player) of the team pre-season in EUR (based on data from transfermarkt.de)\n",
    "* StadiumCapacity (str): Maximum stadium capacity of the team's home stadium"
   ]
  },
  {
   "cell_type": "code",
   "execution_count": 29,
   "metadata": {},
   "outputs": [
    {
     "data": {
      "text/html": [
       "<div>\n",
       "<style scoped>\n",
       "    .dataframe tbody tr th:only-of-type {\n",
       "        vertical-align: middle;\n",
       "    }\n",
       "\n",
       "    .dataframe tbody tr th {\n",
       "        vertical-align: top;\n",
       "    }\n",
       "\n",
       "    .dataframe thead th {\n",
       "        text-align: right;\n",
       "    }\n",
       "</style>\n",
       "<table border=\"1\" class=\"dataframe\">\n",
       "  <thead>\n",
       "    <tr style=\"text-align: right;\">\n",
       "      <th></th>\n",
       "      <th>Season</th>\n",
       "      <th>TeamName</th>\n",
       "      <th>KaderHome</th>\n",
       "      <th>AvgAgeHome</th>\n",
       "      <th>ForeignPlayersHome</th>\n",
       "      <th>OverallMarketValueHome</th>\n",
       "      <th>AvgMarketValueHome</th>\n",
       "      <th>StadiumCapacity</th>\n",
       "    </tr>\n",
       "  </thead>\n",
       "  <tbody>\n",
       "    <tr>\n",
       "      <th>0</th>\n",
       "      <td>2017</td>\n",
       "      <td>Bayern Munich</td>\n",
       "      <td>27</td>\n",
       "      <td>26</td>\n",
       "      <td>15</td>\n",
       "      <td>597950000</td>\n",
       "      <td>22150000</td>\n",
       "      <td>75000</td>\n",
       "    </tr>\n",
       "    <tr>\n",
       "      <th>1</th>\n",
       "      <td>2017</td>\n",
       "      <td>Dortmund</td>\n",
       "      <td>33</td>\n",
       "      <td>25</td>\n",
       "      <td>18</td>\n",
       "      <td>416730000</td>\n",
       "      <td>12630000</td>\n",
       "      <td>81359</td>\n",
       "    </tr>\n",
       "    <tr>\n",
       "      <th>2</th>\n",
       "      <td>2017</td>\n",
       "      <td>Leverkusen</td>\n",
       "      <td>31</td>\n",
       "      <td>24</td>\n",
       "      <td>15</td>\n",
       "      <td>222600000</td>\n",
       "      <td>7180000</td>\n",
       "      <td>30210</td>\n",
       "    </tr>\n",
       "    <tr>\n",
       "      <th>3</th>\n",
       "      <td>2017</td>\n",
       "      <td>RB Leipzig</td>\n",
       "      <td>30</td>\n",
       "      <td>23</td>\n",
       "      <td>15</td>\n",
       "      <td>180130000</td>\n",
       "      <td>6000000</td>\n",
       "      <td>42959</td>\n",
       "    </tr>\n",
       "    <tr>\n",
       "      <th>4</th>\n",
       "      <td>2017</td>\n",
       "      <td>Schalke 04</td>\n",
       "      <td>29</td>\n",
       "      <td>24</td>\n",
       "      <td>17</td>\n",
       "      <td>179550000</td>\n",
       "      <td>6190000</td>\n",
       "      <td>62271</td>\n",
       "    </tr>\n",
       "  </tbody>\n",
       "</table>\n",
       "</div>"
      ],
      "text/plain": [
       "  Season       TeamName KaderHome AvgAgeHome ForeignPlayersHome  \\\n",
       "0   2017  Bayern Munich        27         26                 15   \n",
       "1   2017       Dortmund        33         25                 18   \n",
       "2   2017     Leverkusen        31         24                 15   \n",
       "3   2017     RB Leipzig        30         23                 15   \n",
       "4   2017     Schalke 04        29         24                 17   \n",
       "\n",
       "  OverallMarketValueHome AvgMarketValueHome StadiumCapacity  \n",
       "0              597950000           22150000           75000  \n",
       "1              416730000           12630000           81359  \n",
       "2              222600000            7180000           30210  \n",
       "3              180130000            6000000           42959  \n",
       "4              179550000            6190000           62271  "
      ]
     },
     "execution_count": 29,
     "metadata": {},
     "output_type": "execute_result"
    }
   ],
   "source": [
    "df_teams.head()"
   ]
  },
  {
   "cell_type": "markdown",
   "metadata": {},
   "source": [
    "**Table: Unique_Teams** ---------- 128 x 2\n",
    "\n",
    "* TeamName (str): Name of a team\n",
    "* Unique_Team_ID (int): Unique identifier for each team"
   ]
  },
  {
   "cell_type": "code",
   "execution_count": 30,
   "metadata": {},
   "outputs": [
    {
     "data": {
      "text/html": [
       "<div>\n",
       "<style scoped>\n",
       "    .dataframe tbody tr th:only-of-type {\n",
       "        vertical-align: middle;\n",
       "    }\n",
       "\n",
       "    .dataframe tbody tr th {\n",
       "        vertical-align: top;\n",
       "    }\n",
       "\n",
       "    .dataframe thead th {\n",
       "        text-align: right;\n",
       "    }\n",
       "</style>\n",
       "<table border=\"1\" class=\"dataframe\">\n",
       "  <thead>\n",
       "    <tr style=\"text-align: right;\">\n",
       "      <th></th>\n",
       "      <th>TeamName</th>\n",
       "      <th>Unique_Team_ID</th>\n",
       "    </tr>\n",
       "  </thead>\n",
       "  <tbody>\n",
       "    <tr>\n",
       "      <th>0</th>\n",
       "      <td>Bayern Munich</td>\n",
       "      <td>1</td>\n",
       "    </tr>\n",
       "    <tr>\n",
       "      <th>1</th>\n",
       "      <td>Dortmund</td>\n",
       "      <td>2</td>\n",
       "    </tr>\n",
       "    <tr>\n",
       "      <th>2</th>\n",
       "      <td>Leverkusen</td>\n",
       "      <td>3</td>\n",
       "    </tr>\n",
       "    <tr>\n",
       "      <th>3</th>\n",
       "      <td>RB Leipzig</td>\n",
       "      <td>4</td>\n",
       "    </tr>\n",
       "    <tr>\n",
       "      <th>4</th>\n",
       "      <td>Schalke 04</td>\n",
       "      <td>5</td>\n",
       "    </tr>\n",
       "  </tbody>\n",
       "</table>\n",
       "</div>"
      ],
      "text/plain": [
       "        TeamName  Unique_Team_ID\n",
       "0  Bayern Munich               1\n",
       "1       Dortmund               2\n",
       "2     Leverkusen               3\n",
       "3     RB Leipzig               4\n",
       "4     Schalke 04               5"
      ]
     },
     "execution_count": 30,
     "metadata": {},
     "output_type": "execute_result"
    }
   ],
   "source": [
    "df_unique_teams.head()"
   ]
  },
  {
   "cell_type": "markdown",
   "metadata": {},
   "source": [
    "**Table: Teams_in_Matches** ------------- 49,148 x 2\n",
    "\n",
    "* Match_ID (int): Unique match ID\n",
    "* Unique_Team_ID (int): Unique team ID (This table is used to easily retrieve each match a given team has played in)"
   ]
  },
  {
   "cell_type": "code",
   "execution_count": 86,
   "metadata": {},
   "outputs": [
    {
     "data": {
      "text/html": [
       "<div>\n",
       "<style scoped>\n",
       "    .dataframe tbody tr th:only-of-type {\n",
       "        vertical-align: middle;\n",
       "    }\n",
       "\n",
       "    .dataframe tbody tr th {\n",
       "        vertical-align: top;\n",
       "    }\n",
       "\n",
       "    .dataframe thead th {\n",
       "        text-align: right;\n",
       "    }\n",
       "</style>\n",
       "<table border=\"1\" class=\"dataframe\">\n",
       "  <thead>\n",
       "    <tr style=\"text-align: right;\">\n",
       "      <th></th>\n",
       "      <th>Match_ID</th>\n",
       "      <th>Unique_Team_ID</th>\n",
       "    </tr>\n",
       "  </thead>\n",
       "  <tbody>\n",
       "    <tr>\n",
       "      <th>0</th>\n",
       "      <td>1</td>\n",
       "      <td>26</td>\n",
       "    </tr>\n",
       "    <tr>\n",
       "      <th>1</th>\n",
       "      <td>1</td>\n",
       "      <td>46</td>\n",
       "    </tr>\n",
       "    <tr>\n",
       "      <th>2</th>\n",
       "      <td>2</td>\n",
       "      <td>26</td>\n",
       "    </tr>\n",
       "    <tr>\n",
       "      <th>3</th>\n",
       "      <td>2</td>\n",
       "      <td>42</td>\n",
       "    </tr>\n",
       "    <tr>\n",
       "      <th>4</th>\n",
       "      <td>3</td>\n",
       "      <td>26</td>\n",
       "    </tr>\n",
       "  </tbody>\n",
       "</table>\n",
       "</div>"
      ],
      "text/plain": [
       "   Match_ID  Unique_Team_ID\n",
       "0         1              26\n",
       "1         1              46\n",
       "2         2              26\n",
       "3         2              42\n",
       "4         3              26"
      ]
     },
     "execution_count": 86,
     "metadata": {},
     "output_type": "execute_result"
    }
   ],
   "source": [
    "df_teams_in_matches.head()"
   ]
  },
  {
   "cell_type": "code",
   "execution_count": 920,
   "metadata": {
    "scrolled": true
   },
   "outputs": [
    {
     "data": {
      "text/html": [
       "<div>\n",
       "<style scoped>\n",
       "    .dataframe tbody tr th:only-of-type {\n",
       "        vertical-align: middle;\n",
       "    }\n",
       "\n",
       "    .dataframe tbody tr th {\n",
       "        vertical-align: top;\n",
       "    }\n",
       "\n",
       "    .dataframe thead th {\n",
       "        text-align: right;\n",
       "    }\n",
       "</style>\n",
       "<table border=\"1\" class=\"dataframe\">\n",
       "  <thead>\n",
       "    <tr style=\"text-align: right;\">\n",
       "      <th></th>\n",
       "      <th>TeamName</th>\n",
       "      <th>Unique_Team_ID</th>\n",
       "      <th>Season</th>\n",
       "      <th>count(*)</th>\n",
       "    </tr>\n",
       "  </thead>\n",
       "  <tbody>\n",
       "    <tr>\n",
       "      <th>0</th>\n",
       "      <td>Bayern Munich</td>\n",
       "      <td>1</td>\n",
       "      <td>2011</td>\n",
       "      <td>34</td>\n",
       "    </tr>\n",
       "    <tr>\n",
       "      <th>1</th>\n",
       "      <td>Dortmund</td>\n",
       "      <td>2</td>\n",
       "      <td>2011</td>\n",
       "      <td>34</td>\n",
       "    </tr>\n",
       "    <tr>\n",
       "      <th>2</th>\n",
       "      <td>Leverkusen</td>\n",
       "      <td>3</td>\n",
       "      <td>2011</td>\n",
       "      <td>34</td>\n",
       "    </tr>\n",
       "    <tr>\n",
       "      <th>3</th>\n",
       "      <td>Schalke 04</td>\n",
       "      <td>5</td>\n",
       "      <td>2011</td>\n",
       "      <td>34</td>\n",
       "    </tr>\n",
       "    <tr>\n",
       "      <th>4</th>\n",
       "      <td>M'gladbach</td>\n",
       "      <td>6</td>\n",
       "      <td>2011</td>\n",
       "      <td>34</td>\n",
       "    </tr>\n",
       "  </tbody>\n",
       "</table>\n",
       "</div>"
      ],
      "text/plain": [
       "        TeamName  Unique_Team_ID  Season  count(*)\n",
       "0  Bayern Munich               1    2011        34\n",
       "1       Dortmund               2    2011        34\n",
       "2     Leverkusen               3    2011        34\n",
       "3     Schalke 04               5    2011        34\n",
       "4     M'gladbach               6    2011        34"
      ]
     },
     "execution_count": 920,
     "metadata": {},
     "output_type": "execute_result"
    }
   ],
   "source": [
    "c.execute(\"\"\"select TeamName, Unique_Team_ID, Season, count(*)\n",
    "             from Unique_Teams\n",
    "             join Teams_in_Matches\n",
    "             using (Unique_Team_ID)\n",
    "             join Matches\n",
    "             using (Match_ID)\n",
    "             where Season = 2011\n",
    "             group by 2;\"\"\")\n",
    "df = pd.DataFrame(c.fetchall())\n",
    "df.columns = [i[0] for i in c.description]\n",
    "df.head()"
   ]
  },
  {
   "cell_type": "code",
   "execution_count": 918,
   "metadata": {},
   "outputs": [],
   "source": [
    "import pandas as pd\n",
    "import matplotlib as plt\n",
    "import numpy as np\n",
    "import requests\n",
    "import json"
   ]
  },
  {
   "cell_type": "code",
   "execution_count": 919,
   "metadata": {},
   "outputs": [],
   "source": [
    "import sqlite3\n",
    "conn = sqlite3.connect('database.sqlite')\n",
    "# dont know if I should use the 'PARSE_COLNAMES' or not\n",
    "c = conn.cursor()"
   ]
  },
  {
   "cell_type": "markdown",
   "metadata": {},
   "source": [
    "### What are the names of the teams who show up the most in Teams_in_Matches?"
   ]
  },
  {
   "cell_type": "code",
   "execution_count": 126,
   "metadata": {
    "scrolled": true
   },
   "outputs": [
    {
     "data": {
      "text/html": [
       "<div>\n",
       "<style scoped>\n",
       "    .dataframe tbody tr th:only-of-type {\n",
       "        vertical-align: middle;\n",
       "    }\n",
       "\n",
       "    .dataframe tbody tr th {\n",
       "        vertical-align: top;\n",
       "    }\n",
       "\n",
       "    .dataframe thead th {\n",
       "        text-align: right;\n",
       "    }\n",
       "</style>\n",
       "<table border=\"1\" class=\"dataframe\">\n",
       "  <thead>\n",
       "    <tr style=\"text-align: right;\">\n",
       "      <th></th>\n",
       "      <th>Unique_Team_ID</th>\n",
       "      <th>TeamName</th>\n",
       "      <th>Number_of_Matches</th>\n",
       "    </tr>\n",
       "  </thead>\n",
       "  <tbody>\n",
       "    <tr>\n",
       "      <th>0</th>\n",
       "      <td>81</td>\n",
       "      <td>Arsenal</td>\n",
       "      <td>920</td>\n",
       "    </tr>\n",
       "    <tr>\n",
       "      <th>1</th>\n",
       "      <td>83</td>\n",
       "      <td>Chelsea</td>\n",
       "      <td>920</td>\n",
       "    </tr>\n",
       "    <tr>\n",
       "      <th>2</th>\n",
       "      <td>84</td>\n",
       "      <td>Liverpool</td>\n",
       "      <td>920</td>\n",
       "    </tr>\n",
       "    <tr>\n",
       "      <th>3</th>\n",
       "      <td>92</td>\n",
       "      <td>Tottenham</td>\n",
       "      <td>920</td>\n",
       "    </tr>\n",
       "    <tr>\n",
       "      <th>4</th>\n",
       "      <td>93</td>\n",
       "      <td>Everton</td>\n",
       "      <td>920</td>\n",
       "    </tr>\n",
       "  </tbody>\n",
       "</table>\n",
       "</div>"
      ],
      "text/plain": [
       "   Unique_Team_ID   TeamName  Number_of_Matches\n",
       "0              81    Arsenal                920\n",
       "1              83    Chelsea                920\n",
       "2              84  Liverpool                920\n",
       "3              92  Tottenham                920\n",
       "4              93    Everton                920"
      ]
     },
     "execution_count": 126,
     "metadata": {},
     "output_type": "execute_result"
    }
   ],
   "source": [
    "c.execute(\"\"\"select Unique_Team_ID, TeamName,\n",
    "             count (*) as Number_of_Matches\n",
    "             from Teams_in_Matches\n",
    "             join Unique_Teams\n",
    "             using (Unique_Team_ID)\n",
    "             group by 1\n",
    "             order by 3 desc\n",
    "             limit 5;\"\"\")\n",
    "df = pd.DataFrame(c.fetchall())\n",
    "df.columns = (i[0] for i in c.description)\n",
    "df"
   ]
  },
  {
   "cell_type": "markdown",
   "metadata": {},
   "source": [
    "### Getting team names into dictionaries"
   ]
  },
  {
   "cell_type": "code",
   "execution_count": 921,
   "metadata": {},
   "outputs": [
    {
     "data": {
      "text/plain": [
       "['Bayern Munich', 'Dortmund', 'Leverkusen', 'RB Leipzig', 'Schalke 04']"
      ]
     },
     "execution_count": 921,
     "metadata": {},
     "output_type": "execute_result"
    }
   ],
   "source": [
    "# def get_names():\n",
    "c.execute(\"\"\"select TeamName\n",
    "                 from Unique_Teams;\"\"\")\n",
    "list_teams = []\n",
    "for i in c.fetchall():\n",
    "    for e in i:\n",
    "        list_teams.append(e)\n",
    "list_teams[:5]"
   ]
  },
  {
   "cell_type": "code",
   "execution_count": 146,
   "metadata": {},
   "outputs": [],
   "source": [
    "# def get_names():\n",
    "list_team_dicts = []\n",
    "for team in list_teams:\n",
    "    thing = {'name':team}\n",
    "    list_team_dicts.append(thing)"
   ]
  },
  {
   "cell_type": "code",
   "execution_count": 934,
   "metadata": {},
   "outputs": [
    {
     "data": {
      "text/plain": [
       "[{'name': 'Bayern Munich', '_id': ObjectId('5d2633588e0a4f132d56ca60')},\n",
       " {'name': 'Dortmund', '_id': ObjectId('5d2633588e0a4f132d56ca61')},\n",
       " {'name': 'Leverkusen', '_id': ObjectId('5d2633588e0a4f132d56ca62')},\n",
       " {'name': 'RB Leipzig', '_id': ObjectId('5d2633588e0a4f132d56ca63')},\n",
       " {'name': 'Schalke 04', '_id': ObjectId('5d2633588e0a4f132d56ca64')},\n",
       " {'name': \"M'gladbach\", '_id': ObjectId('5d2633588e0a4f132d56ca65')},\n",
       " {'name': 'Wolfsburg', '_id': ObjectId('5d2633588e0a4f132d56ca66')},\n",
       " {'name': 'FC Koln', '_id': ObjectId('5d2633588e0a4f132d56ca67')},\n",
       " {'name': 'Hoffenheim', '_id': ObjectId('5d2633588e0a4f132d56ca68')},\n",
       " {'name': 'Hertha', '_id': ObjectId('5d2633588e0a4f132d56ca69')},\n",
       " {'name': 'Mainz', '_id': ObjectId('5d2633588e0a4f132d56ca6a')},\n",
       " {'name': 'Hamburg', '_id': ObjectId('5d2633588e0a4f132d56ca6b')},\n",
       " {'name': 'Werder Bremen', '_id': ObjectId('5d2633588e0a4f132d56ca6c')},\n",
       " {'name': 'Ein Frankfurt', '_id': ObjectId('5d2633588e0a4f132d56ca6d')},\n",
       " {'name': 'Augsburg', '_id': ObjectId('5d2633588e0a4f132d56ca6e')},\n",
       " {'name': 'Freiburg', '_id': ObjectId('5d2633588e0a4f132d56ca6f')},\n",
       " {'name': 'Stuttgart', '_id': ObjectId('5d2633588e0a4f132d56ca70')},\n",
       " {'name': 'Hannover', '_id': ObjectId('5d2633588e0a4f132d56ca71')},\n",
       " {'name': 'Ingolstadt', '_id': ObjectId('5d2633588e0a4f132d56ca72')},\n",
       " {'name': 'Darmstadt', '_id': ObjectId('5d2633588e0a4f132d56ca73')},\n",
       " {'name': 'Paderborn', '_id': ObjectId('5d2633588e0a4f132d56ca74')},\n",
       " {'name': 'Nurnberg', '_id': ObjectId('5d2633588e0a4f132d56ca75')},\n",
       " {'name': 'Braunschweig', '_id': ObjectId('5d2633588e0a4f132d56ca76')},\n",
       " {'name': 'Greuther Furth', '_id': ObjectId('5d2633588e0a4f132d56ca77')},\n",
       " {'name': 'Fortuna Dusseldorf', '_id': ObjectId('5d2633588e0a4f132d56ca78')},\n",
       " {'name': 'Kaiserslautern', '_id': ObjectId('5d2633588e0a4f132d56ca79')},\n",
       " {'name': 'St Pauli', '_id': ObjectId('5d2633588e0a4f132d56ca7a')},\n",
       " {'name': 'Bochum', '_id': ObjectId('5d2633588e0a4f132d56ca7b')},\n",
       " {'name': 'Karlsruhe', '_id': ObjectId('5d2633588e0a4f132d56ca7c')},\n",
       " {'name': 'Bielefeld', '_id': ObjectId('5d2633588e0a4f132d56ca7d')},\n",
       " {'name': 'Cottbus', '_id': ObjectId('5d2633588e0a4f132d56ca7e')},\n",
       " {'name': 'Duisburg', '_id': ObjectId('5d2633588e0a4f132d56ca7f')},\n",
       " {'name': 'Hansa Rostock', '_id': ObjectId('5d2633588e0a4f132d56ca80')},\n",
       " {'name': 'Aachen', '_id': ObjectId('5d2633588e0a4f132d56ca81')},\n",
       " {'name': 'Union Berlin', '_id': ObjectId('5d2633588e0a4f132d56ca82')},\n",
       " {'name': 'Heidenheim', '_id': ObjectId('5d2633588e0a4f132d56ca83')},\n",
       " {'name': 'Dresden', '_id': ObjectId('5d2633588e0a4f132d56ca84')},\n",
       " {'name': 'Sandhausen', '_id': ObjectId('5d2633588e0a4f132d56ca85')},\n",
       " {'name': 'Erzgebirge Aue', '_id': ObjectId('5d2633588e0a4f132d56ca86')},\n",
       " {'name': 'Kiel', '_id': ObjectId('5d2633588e0a4f132d56ca87')},\n",
       " {'name': 'Regensburg', '_id': ObjectId('5d2633588e0a4f132d56ca88')},\n",
       " {'name': 'Munich 1860', '_id': ObjectId('5d2633588e0a4f132d56ca89')},\n",
       " {'name': 'Wurzburger Kickers', '_id': ObjectId('5d2633588e0a4f132d56ca8a')},\n",
       " {'name': 'Frankfurt FSV', '_id': ObjectId('5d2633588e0a4f132d56ca8b')},\n",
       " {'name': 'Aalen', '_id': ObjectId('5d2633588e0a4f132d56ca8c')},\n",
       " {'name': 'Oberhausen', '_id': ObjectId('5d2633588e0a4f132d56ca8d')},\n",
       " {'name': 'Osnabruck', '_id': ObjectId('5d2633588e0a4f132d56ca8e')},\n",
       " {'name': 'Koblenz', '_id': ObjectId('5d2633588e0a4f132d56ca8f')},\n",
       " {'name': 'Ahlen', '_id': ObjectId('5d2633588e0a4f132d56ca90')},\n",
       " {'name': 'Wehen', '_id': ObjectId('5d2633588e0a4f132d56ca91')},\n",
       " {'name': 'CZ Jena', '_id': ObjectId('5d2633588e0a4f132d56ca92')},\n",
       " {'name': 'Offenbach', '_id': ObjectId('5d2633588e0a4f132d56ca93')},\n",
       " {'name': 'Essen', '_id': ObjectId('5d2633588e0a4f132d56ca94')},\n",
       " {'name': 'Burghausen', '_id': ObjectId('5d2633588e0a4f132d56ca95')},\n",
       " {'name': 'Unterhaching', '_id': ObjectId('5d2633588e0a4f132d56ca96')},\n",
       " {'name': 'Saarbrucken', '_id': ObjectId('5d2633588e0a4f132d56ca97')},\n",
       " {'name': 'Siegen', '_id': ObjectId('5d2633588e0a4f132d56ca98')},\n",
       " {'name': 'Babelsberg', '_id': ObjectId('5d2633588e0a4f132d56ca99')},\n",
       " {'name': 'Chemnitz', '_id': ObjectId('5d2633588e0a4f132d56ca9a')},\n",
       " {'name': 'Ein Trier', '_id': ObjectId('5d2633588e0a4f132d56ca9b')},\n",
       " {'name': 'Erfurt', '_id': ObjectId('5d2633588e0a4f132d56ca9c')},\n",
       " {'name': 'F Koln', '_id': ObjectId('5d2633588e0a4f132d56ca9d')},\n",
       " {'name': 'Gutersloh', '_id': ObjectId('5d2633588e0a4f132d56ca9e')},\n",
       " {'name': 'Homburg', '_id': ObjectId('5d2633588e0a4f132d56ca9f')},\n",
       " {'name': 'Leipzig', '_id': ObjectId('5d2633588e0a4f132d56caa0')},\n",
       " {'name': 'Lubeck', '_id': ObjectId('5d2633588e0a4f132d56caa1')},\n",
       " {'name': 'Mannheim', '_id': ObjectId('5d2633588e0a4f132d56caa2')},\n",
       " {'name': 'Meppen', '_id': ObjectId('5d2633588e0a4f132d56caa3')},\n",
       " {'name': 'Oldenburg', '_id': ObjectId('5d2633588e0a4f132d56caa4')},\n",
       " {'name': 'Reutlingen', '_id': ObjectId('5d2633588e0a4f132d56caa5')},\n",
       " {'name': 'Schweinfurt', '_id': ObjectId('5d2633588e0a4f132d56caa6')},\n",
       " {'name': 'Stuttgarter K', '_id': ObjectId('5d2633588e0a4f132d56caa7')},\n",
       " {'name': 'TB Berlin', '_id': ObjectId('5d2633588e0a4f132d56caa8')},\n",
       " {'name': 'Uerdingen', '_id': ObjectId('5d2633588e0a4f132d56caa9')},\n",
       " {'name': 'Ulm', '_id': ObjectId('5d2633588e0a4f132d56caaa')},\n",
       " {'name': 'Wattenscheid', '_id': ObjectId('5d2633588e0a4f132d56caab')},\n",
       " {'name': 'Wuppertaler', '_id': ObjectId('5d2633588e0a4f132d56caac')},\n",
       " {'name': 'Zwickau', '_id': ObjectId('5d2633588e0a4f132d56caad')},\n",
       " {'name': 'RW Essen', '_id': ObjectId('5d2633588e0a4f132d56caae')},\n",
       " {'name': \"M'Gladbach\", '_id': ObjectId('5d2633588e0a4f132d56caaf')},\n",
       " {'name': 'Arsenal', '_id': ObjectId('5d2633588e0a4f132d56cab0')},\n",
       " {'name': 'Aston Villa', '_id': ObjectId('5d2633588e0a4f132d56cab1')},\n",
       " {'name': 'Chelsea', '_id': ObjectId('5d2633588e0a4f132d56cab2')},\n",
       " {'name': 'Liverpool', '_id': ObjectId('5d2633588e0a4f132d56cab3')},\n",
       " {'name': 'Man City', '_id': ObjectId('5d2633588e0a4f132d56cab4')},\n",
       " {'name': 'Newcastle', '_id': ObjectId('5d2633588e0a4f132d56cab5')},\n",
       " {'name': 'Oldham', '_id': ObjectId('5d2633588e0a4f132d56cab6')},\n",
       " {'name': 'Sheffield United', '_id': ObjectId('5d2633588e0a4f132d56cab7')},\n",
       " {'name': 'Southampton', '_id': ObjectId('5d2633588e0a4f132d56cab8')},\n",
       " {'name': 'West Ham', '_id': ObjectId('5d2633588e0a4f132d56cab9')},\n",
       " {'name': 'Norwich', '_id': ObjectId('5d2633588e0a4f132d56caba')},\n",
       " {'name': 'Tottenham', '_id': ObjectId('5d2633588e0a4f132d56cabb')},\n",
       " {'name': 'Everton', '_id': ObjectId('5d2633588e0a4f132d56cabc')},\n",
       " {'name': 'Ipswich', '_id': ObjectId('5d2633588e0a4f132d56cabd')},\n",
       " {'name': 'Leeds', '_id': ObjectId('5d2633588e0a4f132d56cabe')},\n",
       " {'name': 'Wimbledon', '_id': ObjectId('5d2633588e0a4f132d56cabf')},\n",
       " {'name': 'Blackburn', '_id': ObjectId('5d2633588e0a4f132d56cac0')},\n",
       " {'name': 'Coventry', '_id': ObjectId('5d2633588e0a4f132d56cac1')},\n",
       " {'name': 'Man United', '_id': ObjectId('5d2633588e0a4f132d56cac2')},\n",
       " {'name': 'QPR', '_id': ObjectId('5d2633588e0a4f132d56cac3')},\n",
       " {'name': 'Sheffield Weds', '_id': ObjectId('5d2633588e0a4f132d56cac4')},\n",
       " {'name': 'Swindon', '_id': ObjectId('5d2633588e0a4f132d56cac5')},\n",
       " {'name': 'Crystal Palace', '_id': ObjectId('5d2633588e0a4f132d56cac6')},\n",
       " {'name': 'Leicester', '_id': ObjectId('5d2633588e0a4f132d56cac7')},\n",
       " {'name': \"Nott'm Forest\", '_id': ObjectId('5d2633588e0a4f132d56cac8')},\n",
       " {'name': 'Bolton', '_id': ObjectId('5d2633588e0a4f132d56cac9')},\n",
       " {'name': 'Middlesbrough', '_id': ObjectId('5d2633588e0a4f132d56caca')},\n",
       " {'name': 'Derby', '_id': ObjectId('5d2633588e0a4f132d56cacb')},\n",
       " {'name': 'Sunderland', '_id': ObjectId('5d2633588e0a4f132d56cacc')},\n",
       " {'name': 'Barnsley', '_id': ObjectId('5d2633588e0a4f132d56cacd')},\n",
       " {'name': 'Charlton', '_id': ObjectId('5d2633588e0a4f132d56cace')},\n",
       " {'name': 'Watford', '_id': ObjectId('5d2633588e0a4f132d56cacf')},\n",
       " {'name': 'Bradford', '_id': ObjectId('5d2633588e0a4f132d56cad0')},\n",
       " {'name': 'Fulham', '_id': ObjectId('5d2633588e0a4f132d56cad1')},\n",
       " {'name': 'Birmingham', '_id': ObjectId('5d2633588e0a4f132d56cad2')},\n",
       " {'name': 'Middlesboro', '_id': ObjectId('5d2633588e0a4f132d56cad3')},\n",
       " {'name': 'West Brom', '_id': ObjectId('5d2633588e0a4f132d56cad4')},\n",
       " {'name': 'Portsmouth', '_id': ObjectId('5d2633588e0a4f132d56cad5')},\n",
       " {'name': 'Wolves', '_id': ObjectId('5d2633588e0a4f132d56cad6')},\n",
       " {'name': 'Wigan', '_id': ObjectId('5d2633588e0a4f132d56cad7')},\n",
       " {'name': 'Reading', '_id': ObjectId('5d2633588e0a4f132d56cad8')},\n",
       " {'name': 'Hull', '_id': ObjectId('5d2633588e0a4f132d56cad9')},\n",
       " {'name': 'Stoke', '_id': ObjectId('5d2633588e0a4f132d56cada')},\n",
       " {'name': 'Burnley', '_id': ObjectId('5d2633588e0a4f132d56cadb')},\n",
       " {'name': 'Blackpool', '_id': ObjectId('5d2633588e0a4f132d56cadc')},\n",
       " {'name': 'Swansea', '_id': ObjectId('5d2633588e0a4f132d56cadd')},\n",
       " {'name': 'Cardiff', '_id': ObjectId('5d2633588e0a4f132d56cade')},\n",
       " {'name': 'Bournemouth', '_id': ObjectId('5d2633588e0a4f132d56cadf')}]"
      ]
     },
     "execution_count": 934,
     "metadata": {},
     "output_type": "execute_result"
    }
   ],
   "source": [
    "list_team_dicts"
   ]
  },
  {
   "cell_type": "markdown",
   "metadata": {},
   "source": [
    "### Getting team number of goals"
   ]
  },
  {
   "cell_type": "code",
   "execution_count": 687,
   "metadata": {
    "scrolled": true
   },
   "outputs": [
    {
     "data": {
      "text/html": [
       "<div>\n",
       "<style scoped>\n",
       "    .dataframe tbody tr th:only-of-type {\n",
       "        vertical-align: middle;\n",
       "    }\n",
       "\n",
       "    .dataframe tbody tr th {\n",
       "        vertical-align: top;\n",
       "    }\n",
       "\n",
       "    .dataframe thead th {\n",
       "        text-align: right;\n",
       "    }\n",
       "</style>\n",
       "<table border=\"1\" class=\"dataframe\">\n",
       "  <thead>\n",
       "    <tr style=\"text-align: right;\">\n",
       "      <th></th>\n",
       "      <th>Season</th>\n",
       "      <th>HomeTeam</th>\n",
       "      <th>frq</th>\n",
       "      <th>Goals</th>\n",
       "    </tr>\n",
       "  </thead>\n",
       "  <tbody>\n",
       "    <tr>\n",
       "      <th>0</th>\n",
       "      <td>2011</td>\n",
       "      <td>Aachen</td>\n",
       "      <td>17</td>\n",
       "      <td>15</td>\n",
       "    </tr>\n",
       "    <tr>\n",
       "      <th>1</th>\n",
       "      <td>2011</td>\n",
       "      <td>Arsenal</td>\n",
       "      <td>19</td>\n",
       "      <td>39</td>\n",
       "    </tr>\n",
       "    <tr>\n",
       "      <th>2</th>\n",
       "      <td>2011</td>\n",
       "      <td>Aston Villa</td>\n",
       "      <td>19</td>\n",
       "      <td>20</td>\n",
       "    </tr>\n",
       "    <tr>\n",
       "      <th>3</th>\n",
       "      <td>2011</td>\n",
       "      <td>Augsburg</td>\n",
       "      <td>17</td>\n",
       "      <td>20</td>\n",
       "    </tr>\n",
       "    <tr>\n",
       "      <th>4</th>\n",
       "      <td>2011</td>\n",
       "      <td>Bayern Munich</td>\n",
       "      <td>17</td>\n",
       "      <td>49</td>\n",
       "    </tr>\n",
       "  </tbody>\n",
       "</table>\n",
       "</div>"
      ],
      "text/plain": [
       "   Season       HomeTeam  frq  Goals\n",
       "0    2011         Aachen   17     15\n",
       "1    2011        Arsenal   19     39\n",
       "2    2011    Aston Villa   19     20\n",
       "3    2011       Augsburg   17     20\n",
       "4    2011  Bayern Munich   17     49"
      ]
     },
     "execution_count": 687,
     "metadata": {},
     "output_type": "execute_result"
    }
   ],
   "source": [
    "c.execute(\"\"\"select Season, HomeTeam, count(*) as frq, \n",
    "             sum(FTHG) as Goals\n",
    "             from Matches\n",
    "             where Season = 2011\n",
    "             group by 2;\"\"\")\n",
    "df = pd.DataFrame(c.fetchall())\n",
    "df.columns = [i[0] for i in c.description]\n",
    "df.head()\n",
    "# print(len(df['']))"
   ]
  },
  {
   "cell_type": "code",
   "execution_count": 366,
   "metadata": {},
   "outputs": [
    {
     "name": "stdout",
     "output_type": "stream",
     "text": [
      "56\n"
     ]
    },
    {
     "data": {
      "text/plain": [
       "[15, 39, 20, 20, 49]"
      ]
     },
     "execution_count": 366,
     "metadata": {},
     "output_type": "execute_result"
    }
   ],
   "source": [
    "goals = []\n",
    "for i in df['Goals']:\n",
    "    goals.append(i)\n",
    "print(len(goals))\n",
    "goals[:5]"
   ]
  },
  {
   "cell_type": "markdown",
   "metadata": {},
   "source": [
    "Getting alphabetical list of team names for later iteration and possible upload variables when uploading everything in Mongo."
   ]
  },
  {
   "cell_type": "code",
   "execution_count": 367,
   "metadata": {},
   "outputs": [
    {
     "name": "stdout",
     "output_type": "stream",
     "text": [
      "56\n"
     ]
    },
    {
     "data": {
      "text/plain": [
       "['Aachen', 'Arsenal', 'Aston Villa', 'Augsburg', 'Bayern Munich']"
      ]
     },
     "execution_count": 367,
     "metadata": {},
     "output_type": "execute_result"
    }
   ],
   "source": [
    "alph_teams_2011 = []\n",
    "for i in df.HomeTeam:\n",
    "    alph_teams_2011.append(i)\n",
    "print(len(alph_teams_2011))\n",
    "alph_teams_2011[:5]"
   ]
  },
  {
   "cell_type": "markdown",
   "metadata": {},
   "source": [
    "### Getting total number of wins"
   ]
  },
  {
   "cell_type": "code",
   "execution_count": 469,
   "metadata": {
    "scrolled": true
   },
   "outputs": [
    {
     "data": {
      "text/html": [
       "<div>\n",
       "<style scoped>\n",
       "    .dataframe tbody tr th:only-of-type {\n",
       "        vertical-align: middle;\n",
       "    }\n",
       "\n",
       "    .dataframe tbody tr th {\n",
       "        vertical-align: top;\n",
       "    }\n",
       "\n",
       "    .dataframe thead th {\n",
       "        text-align: right;\n",
       "    }\n",
       "</style>\n",
       "<table border=\"1\" class=\"dataframe\">\n",
       "  <thead>\n",
       "    <tr style=\"text-align: right;\">\n",
       "      <th></th>\n",
       "      <th>Season</th>\n",
       "      <th>HomeTeam</th>\n",
       "      <th>Wins</th>\n",
       "    </tr>\n",
       "  </thead>\n",
       "  <tbody>\n",
       "    <tr>\n",
       "      <th>0</th>\n",
       "      <td>2011</td>\n",
       "      <td>Aachen</td>\n",
       "      <td>4</td>\n",
       "    </tr>\n",
       "    <tr>\n",
       "      <th>1</th>\n",
       "      <td>2011</td>\n",
       "      <td>Arsenal</td>\n",
       "      <td>12</td>\n",
       "    </tr>\n",
       "    <tr>\n",
       "      <th>2</th>\n",
       "      <td>2011</td>\n",
       "      <td>Aston Villa</td>\n",
       "      <td>4</td>\n",
       "    </tr>\n",
       "    <tr>\n",
       "      <th>3</th>\n",
       "      <td>2011</td>\n",
       "      <td>Augsburg</td>\n",
       "      <td>6</td>\n",
       "    </tr>\n",
       "    <tr>\n",
       "      <th>4</th>\n",
       "      <td>2011</td>\n",
       "      <td>Bayern Munich</td>\n",
       "      <td>14</td>\n",
       "    </tr>\n",
       "  </tbody>\n",
       "</table>\n",
       "</div>"
      ],
      "text/plain": [
       "   Season       HomeTeam  Wins\n",
       "0    2011         Aachen     4\n",
       "1    2011        Arsenal    12\n",
       "2    2011    Aston Villa     4\n",
       "3    2011       Augsburg     6\n",
       "4    2011  Bayern Munich    14"
      ]
     },
     "execution_count": 469,
     "metadata": {},
     "output_type": "execute_result"
    }
   ],
   "source": [
    "c.execute(\"\"\"select Season, HomeTeam, \n",
    "             count(FTR) as Wins\n",
    "             from Matches\n",
    "             where Season = 2011 and FTR = \"H\"\n",
    "             group by 2\n",
    "             order by 2;\"\"\")\n",
    "df_wins = pd.DataFrame(c.fetchall())\n",
    "df_wins.columns = [i[0] for i in c.description]\n",
    "df_wins.head()"
   ]
  },
  {
   "cell_type": "code",
   "execution_count": 464,
   "metadata": {},
   "outputs": [
    {
     "data": {
      "text/plain": [
       "[4, 12, 4, 6, 14]"
      ]
     },
     "execution_count": 464,
     "metadata": {},
     "output_type": "execute_result"
    }
   ],
   "source": [
    "wins = []\n",
    "for i in df_wins['Wins']:\n",
    "    wins.append(i)\n",
    "wins[:5]"
   ]
  },
  {
   "cell_type": "markdown",
   "metadata": {},
   "source": [
    "### Histogram of wins and losses"
   ]
  },
  {
   "cell_type": "markdown",
   "metadata": {},
   "source": [
    "Getting losses and combining with wins from above."
   ]
  },
  {
   "cell_type": "code",
   "execution_count": 423,
   "metadata": {
    "scrolled": true
   },
   "outputs": [
    {
     "data": {
      "text/html": [
       "<div>\n",
       "<style scoped>\n",
       "    .dataframe tbody tr th:only-of-type {\n",
       "        vertical-align: middle;\n",
       "    }\n",
       "\n",
       "    .dataframe tbody tr th {\n",
       "        vertical-align: top;\n",
       "    }\n",
       "\n",
       "    .dataframe thead th {\n",
       "        text-align: right;\n",
       "    }\n",
       "</style>\n",
       "<table border=\"1\" class=\"dataframe\">\n",
       "  <thead>\n",
       "    <tr style=\"text-align: right;\">\n",
       "      <th></th>\n",
       "      <th>Season</th>\n",
       "      <th>HomeTeam</th>\n",
       "      <th>Losses</th>\n",
       "    </tr>\n",
       "  </thead>\n",
       "  <tbody>\n",
       "    <tr>\n",
       "      <th>0</th>\n",
       "      <td>2011</td>\n",
       "      <td>Aachen</td>\n",
       "      <td>7</td>\n",
       "    </tr>\n",
       "    <tr>\n",
       "      <th>1</th>\n",
       "      <td>2011</td>\n",
       "      <td>Arsenal</td>\n",
       "      <td>3</td>\n",
       "    </tr>\n",
       "    <tr>\n",
       "      <th>2</th>\n",
       "      <td>2011</td>\n",
       "      <td>Aston Villa</td>\n",
       "      <td>8</td>\n",
       "    </tr>\n",
       "    <tr>\n",
       "      <th>3</th>\n",
       "      <td>2011</td>\n",
       "      <td>Augsburg</td>\n",
       "      <td>4</td>\n",
       "    </tr>\n",
       "    <tr>\n",
       "      <th>4</th>\n",
       "      <td>2011</td>\n",
       "      <td>Bayern Munich</td>\n",
       "      <td>2</td>\n",
       "    </tr>\n",
       "  </tbody>\n",
       "</table>\n",
       "</div>"
      ],
      "text/plain": [
       "   Season       HomeTeam  Losses\n",
       "0    2011         Aachen       7\n",
       "1    2011        Arsenal       3\n",
       "2    2011    Aston Villa       8\n",
       "3    2011       Augsburg       4\n",
       "4    2011  Bayern Munich       2"
      ]
     },
     "execution_count": 423,
     "metadata": {},
     "output_type": "execute_result"
    }
   ],
   "source": [
    "c.execute(\"\"\"select Season, HomeTeam, \n",
    "             count(FTR) as Losses\n",
    "             from Matches\n",
    "             where Season = 2011 and FTR = \"A\"\n",
    "             group by 2\n",
    "             order by 2;\"\"\")\n",
    "df_losses = pd.DataFrame(c.fetchall())\n",
    "df_losses.columns = [i[0] for i in c.description]\n",
    "df_losses.head()"
   ]
  },
  {
   "cell_type": "code",
   "execution_count": 437,
   "metadata": {},
   "outputs": [
    {
     "name": "stdout",
     "output_type": "stream",
     "text": [
      "54\n"
     ]
    },
    {
     "data": {
      "text/plain": [
       "[7, 3, 8, 4, 2]"
      ]
     },
     "execution_count": 437,
     "metadata": {},
     "output_type": "execute_result"
    }
   ],
   "source": [
    "losses = []\n",
    "for i in df_losses['Losses']:\n",
    "    losses.append(i)\n",
    "print(len(losses))\n",
    "losses[:5]"
   ]
  },
  {
   "cell_type": "markdown",
   "metadata": {},
   "source": [
    "There are two teams that did not lose any games"
   ]
  },
  {
   "cell_type": "code",
   "execution_count": 424,
   "metadata": {},
   "outputs": [],
   "source": [
    "losing_teams = []\n",
    "for i in df_losses['HomeTeam']:\n",
    "    losing_teams.append(i)"
   ]
  },
  {
   "cell_type": "code",
   "execution_count": 426,
   "metadata": {},
   "outputs": [
    {
     "name": "stdout",
     "output_type": "stream",
     "text": [
      "Hannover\n",
      "Man City\n"
     ]
    }
   ],
   "source": [
    "for i in alph_teams_2011:\n",
    "    if i not in losing_teams:\n",
    "        print(i)"
   ]
  },
  {
   "cell_type": "markdown",
   "metadata": {},
   "source": [
    "Had to manually count and insert data (the two zeroes for the teams that never lost a match)."
   ]
  },
  {
   "cell_type": "code",
   "execution_count": 460,
   "metadata": {},
   "outputs": [],
   "source": [
    "losses = [7, 3, 8, 4, 2, 12, 7, 11, 3, 4, 5, 1, 4, 7, 1, 5, 6, 8, 1, 4, 5, 4, 2, 7, 0, 7, \n",
    " 10, 4, 3, 10, 6, 5, 4, 1, 7, 0, 2, 5, 3, 6, 7, 2, 7, 3, 2, 4, 4, 5, 4, 3, 4, 5, 10, 7, 5, 13]"
   ]
  },
  {
   "cell_type": "markdown",
   "metadata": {},
   "source": [
    "Making a dataframe object to use to create the histograms."
   ]
  },
  {
   "cell_type": "code",
   "execution_count": 470,
   "metadata": {
    "scrolled": true
   },
   "outputs": [
    {
     "data": {
      "text/html": [
       "<div>\n",
       "<style scoped>\n",
       "    .dataframe tbody tr th:only-of-type {\n",
       "        vertical-align: middle;\n",
       "    }\n",
       "\n",
       "    .dataframe tbody tr th {\n",
       "        vertical-align: top;\n",
       "    }\n",
       "\n",
       "    .dataframe thead th {\n",
       "        text-align: right;\n",
       "    }\n",
       "</style>\n",
       "<table border=\"1\" class=\"dataframe\">\n",
       "  <thead>\n",
       "    <tr style=\"text-align: right;\">\n",
       "      <th></th>\n",
       "      <th>Team</th>\n",
       "      <th>Wins</th>\n",
       "      <th>Losses</th>\n",
       "    </tr>\n",
       "  </thead>\n",
       "  <tbody>\n",
       "    <tr>\n",
       "      <th>0</th>\n",
       "      <td>Aachen</td>\n",
       "      <td>4</td>\n",
       "      <td>7</td>\n",
       "    </tr>\n",
       "    <tr>\n",
       "      <th>1</th>\n",
       "      <td>Arsenal</td>\n",
       "      <td>12</td>\n",
       "      <td>3</td>\n",
       "    </tr>\n",
       "    <tr>\n",
       "      <th>2</th>\n",
       "      <td>Aston Villa</td>\n",
       "      <td>4</td>\n",
       "      <td>8</td>\n",
       "    </tr>\n",
       "    <tr>\n",
       "      <th>3</th>\n",
       "      <td>Augsburg</td>\n",
       "      <td>6</td>\n",
       "      <td>4</td>\n",
       "    </tr>\n",
       "    <tr>\n",
       "      <th>4</th>\n",
       "      <td>Bayern Munich</td>\n",
       "      <td>14</td>\n",
       "      <td>2</td>\n",
       "    </tr>\n",
       "  </tbody>\n",
       "</table>\n",
       "</div>"
      ],
      "text/plain": [
       "            Team  Wins  Losses\n",
       "0         Aachen     4       7\n",
       "1        Arsenal    12       3\n",
       "2    Aston Villa     4       8\n",
       "3       Augsburg     6       4\n",
       "4  Bayern Munich    14       2"
      ]
     },
     "execution_count": 470,
     "metadata": {},
     "output_type": "execute_result"
    }
   ],
   "source": [
    "df1 = pd.DataFrame(alph_teams_2011)\n",
    "df2 = pd.DataFrame(wins)\n",
    "df3 = pd.DataFrame(losses)\n",
    "df_for_hist = pd.concat([df1, df2, df3], axis=1)\n",
    "df_for_hist.columns = ['Team', 'Wins', 'Losses']\n",
    "df_for_hist.head()"
   ]
  },
  {
   "cell_type": "markdown",
   "metadata": {},
   "source": [
    "Found out that this is not a good way to produce the histograms. Trying something else."
   ]
  },
  {
   "cell_type": "code",
   "execution_count": 963,
   "metadata": {},
   "outputs": [],
   "source": [
    "import matplotlib.pyplot as plt\n",
    "%matplotlib inline"
   ]
  },
  {
   "cell_type": "code",
   "execution_count": 603,
   "metadata": {},
   "outputs": [],
   "source": [
    "dict_list = []\n",
    "for a, b, c in zip(alph_teams_2011, wins, losses):\n",
    "    thing = {a:[b,c]}\n",
    "    dict_list.append(thing)\n",
    "i = dict_list[0]"
   ]
  },
  {
   "cell_type": "code",
   "execution_count": 707,
   "metadata": {},
   "outputs": [
    {
     "data": {
      "image/png": "[encoded data removed]",
      "text/plain": [
       "<Figure size 432x288 with 1 Axes>"
      ]
     },
     "metadata": {
      "needs_background": "light"
     },
     "output_type": "display_data"
    },
    {
     "data": {
      "text/plain": [
       "<Figure size 432x288 with 0 Axes>"
      ]
     },
     "metadata": {},
     "output_type": "display_data"
    }
   ],
   "source": [
    "n = str('Win ' * wins[0])\n",
    "n = n.split()\n",
    "o = str('Loss ' * losses[0])\n",
    "o = o.split()\n",
    "p = n + o\n",
    "plt.title = alph_teams_2011[0]\n",
    "plt.xlabel = 'dasf d'\n",
    "plt.hist(p, bins=3)\n",
    "plt.show()\n",
    "plt.savefig(hist_file + 'image.png')"
   ]
  },
  {
   "cell_type": "code",
   "execution_count": 704,
   "metadata": {},
   "outputs": [],
   "source": [
    "hist_file = '/Users/plumkes/Course_Materials/section15/dsc-mod-2-lab-online-ds-ft-051319/histograms/'"
   ]
  },
  {
   "cell_type": "code",
   "execution_count": 705,
   "metadata": {},
   "outputs": [
    {
     "data": {
      "text/plain": [
       "'/Users/plumkes/Course_Materials/section15/dsc-mod-2-lab-online-ds-ft-051319/histograms/'"
      ]
     },
     "execution_count": 705,
     "metadata": {},
     "output_type": "execute_result"
    }
   ],
   "source": [
    "hist_file"
   ]
  },
  {
   "cell_type": "code",
   "execution_count": 885,
   "metadata": {
    "scrolled": true
   },
   "outputs": [
    {
     "data": {
      "text/plain": [
       "['Wins',\n",
       " 'Wins',\n",
       " 'Wins',\n",
       " 'Wins',\n",
       " 'Losses',\n",
       " 'Losses',\n",
       " 'Losses',\n",
       " 'Losses',\n",
       " 'Losses',\n",
       " 'Losses',\n",
       " 'Losses']"
      ]
     },
     "execution_count": 885,
     "metadata": {},
     "output_type": "execute_result"
    }
   ],
   "source": [
    "outcomes # I accidentally deleted the code for this, but it was just a more well put together version of the \n",
    "         # code above where I multiplied strings for wins and losses times their respective integers to get a string list\n",
    "test = outcomes[:3]\n",
    "test[0]"
   ]
  },
  {
   "cell_type": "markdown",
   "metadata": {},
   "source": [
    "Experimented with saving `.png`'s of the histograms as you can see in the commented-out code below. Finally opted to save hists in dictionary format. "
   ]
  },
  {
   "cell_type": "code",
   "execution_count": 997,
   "metadata": {},
   "outputs": [],
   "source": [
    "def get_hist(data):\n",
    "    hist = plt.hist(data, bins=4)\n",
    "#     plt.savefig(hist_file + 'image{}.png'.format(n))\n",
    "    plt.close()\n",
    "    return hist"
   ]
  },
  {
   "cell_type": "code",
   "execution_count": 975,
   "metadata": {},
   "outputs": [
    {
     "data": {
      "text/plain": [
       "'(array([4., 0., 0., 7.]), array([0.  , 0.25, 0.5 , 0.75, 1.  ]), <a list of 4 Patch objects>)'"
      ]
     },
     "execution_count": 975,
     "metadata": {},
     "output_type": "execute_result"
    }
   ],
   "source": [
    "str(list_of_hists[0])"
   ]
  },
  {
   "cell_type": "markdown",
   "metadata": {},
   "source": [
    "## Getting Weather"
   ]
  },
  {
   "cell_type": "code",
   "execution_count": 203,
   "metadata": {},
   "outputs": [],
   "source": [
    "import requests\n",
    "import time\n",
    "import datetime"
   ]
  },
  {
   "cell_type": "markdown",
   "metadata": {},
   "source": [
    "Berlin Coordinates:\n",
    "* 52.519459, 13.405498\n",
    "* GMT + 02:00"
   ]
  },
  {
   "cell_type": "code",
   "execution_count": 669,
   "metadata": {},
   "outputs": [],
   "source": [
    "# code credit: https://stackoverflow.com/questions/9637838/convert-string-date-to-timestamp-in-python\n",
    "# after further research, documentation on Unix for Python: https://docs.python.org/3/library/time.html\n",
    "def unix_time(date):\n",
    "    t = date\n",
    "    p = int(time.mktime(datetime.datetime.strptime(t, \"%Y-%m-%d\").timetuple()))\n",
    "    return p"
   ]
  },
  {
   "cell_type": "code",
   "execution_count": 670,
   "metadata": {},
   "outputs": [],
   "source": [
    "# def get_forecast(lat, long, date):\n",
    "#     fecha = unix_time(date)\n",
    "#     response = requests.get('https://api.darksky.net/forecast/542f33bdfe21fc15dcbe5f40326157b6/'\n",
    "#                             '{},{},{}?exclude=currently,minutely,hourly,alerts,flags'.format(lat, long, fecha))\n",
    "#     return response.json()"
   ]
  },
  {
   "cell_type": "code",
   "execution_count": 671,
   "metadata": {},
   "outputs": [],
   "source": [
    "def get_berlin_forecast(date):\n",
    "    fecha = unix_time(date)\n",
    "    response = requests.get('https://api.darksky.net/forecast/542f33bdfe21fc15dcbe5f40326157b6/'\n",
    "                            '52.519459,13.405498,{}?exclude=currently,minutely,hourly,alerts,flags'.format(fecha))\n",
    "    return response.json()"
   ]
  },
  {
   "cell_type": "code",
   "execution_count": 672,
   "metadata": {},
   "outputs": [],
   "source": [
    "def precip_in_berlin(date):\n",
    "    forecast = get_berlin_forecast(date)\n",
    "    icon = forecast['daily']['data'][0]['icon']\n",
    "    return icon"
   ]
  },
  {
   "cell_type": "code",
   "execution_count": 986,
   "metadata": {},
   "outputs": [
    {
     "data": {
      "text/html": [
       "<div>\n",
       "<style scoped>\n",
       "    .dataframe tbody tr th:only-of-type {\n",
       "        vertical-align: middle;\n",
       "    }\n",
       "\n",
       "    .dataframe tbody tr th {\n",
       "        vertical-align: top;\n",
       "    }\n",
       "\n",
       "    .dataframe thead th {\n",
       "        text-align: right;\n",
       "    }\n",
       "</style>\n",
       "<table border=\"1\" class=\"dataframe\">\n",
       "  <thead>\n",
       "    <tr style=\"text-align: right;\">\n",
       "      <th></th>\n",
       "      <th>Season</th>\n",
       "      <th>Date</th>\n",
       "      <th>HomeTeam</th>\n",
       "      <th>AwayTeam</th>\n",
       "      <th>FTR</th>\n",
       "    </tr>\n",
       "  </thead>\n",
       "  <tbody>\n",
       "    <tr>\n",
       "      <th>0</th>\n",
       "      <td>2011</td>\n",
       "      <td>2012-03-31</td>\n",
       "      <td>Nurnberg</td>\n",
       "      <td>Bayern Munich</td>\n",
       "      <td>A</td>\n",
       "    </tr>\n",
       "    <tr>\n",
       "      <th>1</th>\n",
       "      <td>2011</td>\n",
       "      <td>2011-12-11</td>\n",
       "      <td>Stuttgart</td>\n",
       "      <td>Bayern Munich</td>\n",
       "      <td>A</td>\n",
       "    </tr>\n",
       "    <tr>\n",
       "      <th>2</th>\n",
       "      <td>2011</td>\n",
       "      <td>2011-08-13</td>\n",
       "      <td>Wolfsburg</td>\n",
       "      <td>Bayern Munich</td>\n",
       "      <td>A</td>\n",
       "    </tr>\n",
       "    <tr>\n",
       "      <th>3</th>\n",
       "      <td>2011</td>\n",
       "      <td>2011-11-27</td>\n",
       "      <td>Mainz</td>\n",
       "      <td>Bayern Munich</td>\n",
       "      <td>H</td>\n",
       "    </tr>\n",
       "    <tr>\n",
       "      <th>4</th>\n",
       "      <td>2011</td>\n",
       "      <td>2012-02-18</td>\n",
       "      <td>Freiburg</td>\n",
       "      <td>Bayern Munich</td>\n",
       "      <td>D</td>\n",
       "    </tr>\n",
       "  </tbody>\n",
       "</table>\n",
       "</div>"
      ],
      "text/plain": [
       "   Season        Date   HomeTeam       AwayTeam FTR\n",
       "0    2011  2012-03-31   Nurnberg  Bayern Munich   A\n",
       "1    2011  2011-12-11  Stuttgart  Bayern Munich   A\n",
       "2    2011  2011-08-13  Wolfsburg  Bayern Munich   A\n",
       "3    2011  2011-11-27      Mainz  Bayern Munich   H\n",
       "4    2011  2012-02-18   Freiburg  Bayern Munich   D"
      ]
     },
     "execution_count": 986,
     "metadata": {},
     "output_type": "execute_result"
    }
   ],
   "source": [
    "c.execute(\"\"\"select Season, Date, \n",
    "                    HomeTeam, AwayTeam, FTR\n",
    "                    from Matches\n",
    "                    where Season = 2011;\"\"\")\n",
    "df_weather = pd.DataFrame(c.fetchall())\n",
    "df_weather.columns = [i[0] for i in c.description]\n",
    "df_weather.head()"
   ]
  },
  {
   "cell_type": "code",
   "execution_count": 676,
   "metadata": {},
   "outputs": [],
   "source": [
    "season_2011_dates = list(df.Date)"
   ]
  },
  {
   "cell_type": "code",
   "execution_count": 680,
   "metadata": {},
   "outputs": [],
   "source": [
    "weather_2011 = []\n",
    "for date in season_2011_dates:\n",
    "    weather_2011.append(precip_in_berlin(date))"
   ]
  },
  {
   "cell_type": "code",
   "execution_count": 987,
   "metadata": {},
   "outputs": [
    {
     "data": {
      "text/plain": [
       "['rain',\n",
       " 'partly-cloudy-day',\n",
       " 'partly-cloudy-day',\n",
       " 'partly-cloudy-day',\n",
       " 'partly-cloudy-day']"
      ]
     },
     "execution_count": 987,
     "metadata": {},
     "output_type": "execute_result"
    }
   ],
   "source": [
    "weather_2011[:5]"
   ]
  },
  {
   "cell_type": "code",
   "execution_count": 988,
   "metadata": {},
   "outputs": [],
   "source": [
    "df_weather['Weather'] = weather_2011"
   ]
  },
  {
   "cell_type": "code",
   "execution_count": 989,
   "metadata": {
    "scrolled": true
   },
   "outputs": [
    {
     "data": {
      "text/html": [
       "<div>\n",
       "<style scoped>\n",
       "    .dataframe tbody tr th:only-of-type {\n",
       "        vertical-align: middle;\n",
       "    }\n",
       "\n",
       "    .dataframe tbody tr th {\n",
       "        vertical-align: top;\n",
       "    }\n",
       "\n",
       "    .dataframe thead th {\n",
       "        text-align: right;\n",
       "    }\n",
       "</style>\n",
       "<table border=\"1\" class=\"dataframe\">\n",
       "  <thead>\n",
       "    <tr style=\"text-align: right;\">\n",
       "      <th></th>\n",
       "      <th>Season</th>\n",
       "      <th>Date</th>\n",
       "      <th>HomeTeam</th>\n",
       "      <th>AwayTeam</th>\n",
       "      <th>FTR</th>\n",
       "      <th>Weather</th>\n",
       "    </tr>\n",
       "  </thead>\n",
       "  <tbody>\n",
       "    <tr>\n",
       "      <th>0</th>\n",
       "      <td>2011</td>\n",
       "      <td>2012-03-31</td>\n",
       "      <td>Nurnberg</td>\n",
       "      <td>Bayern Munich</td>\n",
       "      <td>A</td>\n",
       "      <td>rain</td>\n",
       "    </tr>\n",
       "    <tr>\n",
       "      <th>1</th>\n",
       "      <td>2011</td>\n",
       "      <td>2011-12-11</td>\n",
       "      <td>Stuttgart</td>\n",
       "      <td>Bayern Munich</td>\n",
       "      <td>A</td>\n",
       "      <td>partly-cloudy-day</td>\n",
       "    </tr>\n",
       "    <tr>\n",
       "      <th>2</th>\n",
       "      <td>2011</td>\n",
       "      <td>2011-08-13</td>\n",
       "      <td>Wolfsburg</td>\n",
       "      <td>Bayern Munich</td>\n",
       "      <td>A</td>\n",
       "      <td>partly-cloudy-day</td>\n",
       "    </tr>\n",
       "    <tr>\n",
       "      <th>3</th>\n",
       "      <td>2011</td>\n",
       "      <td>2011-11-27</td>\n",
       "      <td>Mainz</td>\n",
       "      <td>Bayern Munich</td>\n",
       "      <td>H</td>\n",
       "      <td>partly-cloudy-day</td>\n",
       "    </tr>\n",
       "    <tr>\n",
       "      <th>4</th>\n",
       "      <td>2011</td>\n",
       "      <td>2012-02-18</td>\n",
       "      <td>Freiburg</td>\n",
       "      <td>Bayern Munich</td>\n",
       "      <td>D</td>\n",
       "      <td>partly-cloudy-day</td>\n",
       "    </tr>\n",
       "  </tbody>\n",
       "</table>\n",
       "</div>"
      ],
      "text/plain": [
       "   Season        Date   HomeTeam       AwayTeam FTR            Weather\n",
       "0    2011  2012-03-31   Nurnberg  Bayern Munich   A               rain\n",
       "1    2011  2011-12-11  Stuttgart  Bayern Munich   A  partly-cloudy-day\n",
       "2    2011  2011-08-13  Wolfsburg  Bayern Munich   A  partly-cloudy-day\n",
       "3    2011  2011-11-27      Mainz  Bayern Munich   H  partly-cloudy-day\n",
       "4    2011  2012-02-18   Freiburg  Bayern Munich   D  partly-cloudy-day"
      ]
     },
     "execution_count": 989,
     "metadata": {},
     "output_type": "execute_result"
    }
   ],
   "source": [
    "df_weather.head()"
   ]
  },
  {
   "cell_type": "markdown",
   "metadata": {},
   "source": [
    "### Getting percentage of games won while raining"
   ]
  },
  {
   "cell_type": "code",
   "execution_count": 990,
   "metadata": {},
   "outputs": [],
   "source": [
    "def win_perc(team):\n",
    "    played_while_raining = 0\n",
    "    won_while_raining = 0\n",
    "    for a, b, c, d in zip(df_weather.HomeTeam, df_weather.AwayTeam, df_weather.FTR, df_weather.Weather):\n",
    "        if (team == a and d == 'rain'):\n",
    "            played_while_raining += 1\n",
    "            if c == 'H':\n",
    "                won_while_raining += 1\n",
    "        if (team == b and d == 'rain'):\n",
    "            played_while_raining += 1\n",
    "            if c == 'A':\n",
    "                won_while_raining += 1\n",
    "    percent_won = round((won_while_raining / played_while_raining) * 100)\n",
    "    return percent_won"
   ]
  },
  {
   "cell_type": "code",
   "execution_count": 874,
   "metadata": {},
   "outputs": [
    {
     "name": "stdout",
     "output_type": "stream",
     "text": [
      "12\n",
      "5\n",
      "42 %\n"
     ]
    }
   ],
   "source": [
    "# broken down code used piecemeal to construct above function\n",
    "team = 'Hannover'\n",
    "played_while_raining = 0\n",
    "won_while_raining = 0\n",
    "for a, b, c, d in zip(df_weather.HomeTeam, df_weather.AwayTeam, df_weather.FTR, df_weather.Weather):    \n",
    "    if (team == a and d == 'rain'):\n",
    "        played_while_raining += 1\n",
    "        if c == 'H':\n",
    "            won_while_raining += 1\n",
    "    elif (team == b and d == 'rain'):\n",
    "        played_while_raining += 1\n",
    "        if c == 'A':\n",
    "            won_while_raining += 1\n",
    "print(played_while_raining)\n",
    "print(won_while_raining)\n",
    "print(round((won_while_raining / played_while_raining) * 100),'%')"
   ]
  },
  {
   "cell_type": "code",
   "execution_count": 991,
   "metadata": {},
   "outputs": [],
   "source": [
    "teams_win_perc = []\n",
    "for team in alph_teams_2011:\n",
    "    teams_win_perc.append(win_perc(team))"
   ]
  },
  {
   "cell_type": "code",
   "execution_count": 992,
   "metadata": {},
   "outputs": [
    {
     "data": {
      "text/plain": [
       "56"
      ]
     },
     "execution_count": 992,
     "metadata": {},
     "output_type": "execute_result"
    }
   ],
   "source": [
    "len(teams_win_perc)"
   ]
  },
  {
   "cell_type": "markdown",
   "metadata": {},
   "source": [
    "## Putting everything in Mongo"
   ]
  },
  {
   "cell_type": "code",
   "execution_count": 923,
   "metadata": {},
   "outputs": [],
   "source": [
    "import pymongo"
   ]
  },
  {
   "cell_type": "code",
   "execution_count": 924,
   "metadata": {},
   "outputs": [],
   "source": [
    "myclient = pymongo.MongoClient(\"mongodb://127.0.0.1:27017\")\n",
    "mydb = myclient['soccer_database']"
   ]
  },
  {
   "cell_type": "code",
   "execution_count": 925,
   "metadata": {},
   "outputs": [
    {
     "name": "stdout",
     "output_type": "stream",
     "text": [
      "['admin', 'config', 'example_database', 'lab_db', 'local', 'test']\n"
     ]
    }
   ],
   "source": [
    "print(myclient.list_database_names())"
   ]
  },
  {
   "cell_type": "code",
   "execution_count": 926,
   "metadata": {},
   "outputs": [],
   "source": [
    "# short for mycollection\n",
    "mycoll = mydb['Season_2011_Stats']"
   ]
  },
  {
   "cell_type": "code",
   "execution_count": 927,
   "metadata": {},
   "outputs": [],
   "source": [
    "results = mycoll.insert_many(list_team_dicts)"
   ]
  },
  {
   "cell_type": "code",
   "execution_count": 929,
   "metadata": {},
   "outputs": [
    {
     "data": {
      "text/plain": [
       "128"
      ]
     },
     "execution_count": 929,
     "metadata": {},
     "output_type": "execute_result"
    }
   ],
   "source": [
    "len(results.inserted_ids)"
   ]
  },
  {
   "cell_type": "markdown",
   "metadata": {},
   "source": [
    "These above are all the teams in the leagues from the dataset, although not every team played in 2011. "
   ]
  },
  {
   "cell_type": "code",
   "execution_count": 931,
   "metadata": {},
   "outputs": [
    {
     "name": "stdout",
     "output_type": "stream",
     "text": [
      "{'_id': ObjectId('5d2633588e0a4f132d56ca71'), 'name': 'Hannover'}\n"
     ]
    }
   ],
   "source": [
    "# make sure it worked\n",
    "query1 = mycoll.find({'name':'Hannover'})\n",
    "for i in query1:\n",
    "    print(i)"
   ]
  },
  {
   "cell_type": "markdown",
   "metadata": {},
   "source": [
    "Updating number of wins in 2011 season as initial experiment."
   ]
  },
  {
   "cell_type": "code",
   "execution_count": 932,
   "metadata": {},
   "outputs": [],
   "source": [
    "for i, e in zip(alph_teams_2011, wins):\n",
    "    record_to_update = {'name': i}\n",
    "    update1 = {'$set':{'number of wins 2011': e}}\n",
    "    mycoll.update_one(record_to_update, update1)"
   ]
  },
  {
   "cell_type": "code",
   "execution_count": 950,
   "metadata": {},
   "outputs": [
    {
     "name": "stdout",
     "output_type": "stream",
     "text": [
      "{'_id': ObjectId('5d2633588e0a4f132d56cade'), 'name': 'Cardiff'} {'_id': ObjectId('5d2633588e0a4f132d56ca71'), 'name': 'Hannover', 'number of wins 2011': 10}\n"
     ]
    }
   ],
   "source": [
    "query2 = mycoll.find({'name':'Cardiff'})\n",
    "query3 = mycoll.find({'name':'Hannover'})\n",
    "for i, e in zip(query2, query3):\n",
    "    print(i, e)"
   ]
  },
  {
   "cell_type": "markdown",
   "metadata": {},
   "source": [
    "Above I am demonstrating that I have called two different teams, one of which did not play in 2011 and thus does not have the same record as the other. <br> The fact that they had to be called separately was due to me being somehow unable to call them both at the same time using their names."
   ]
  },
  {
   "cell_type": "markdown",
   "metadata": {},
   "source": [
    "Now I'll create a function to speed up the process a little."
   ]
  },
  {
   "cell_type": "code",
   "execution_count": 982,
   "metadata": {},
   "outputs": [],
   "source": [
    "def update_db(team_name, update, update_text):\n",
    "    record_to_update = {'name': team_name}\n",
    "    update1 = {'$set':{update_text: update}}\n",
    "    mycoll.update_one(record_to_update, update1)\n",
    "    return None "
   ]
  },
  {
   "cell_type": "code",
   "execution_count": 952,
   "metadata": {},
   "outputs": [],
   "source": [
    "for team, record in zip(alph_teams_2011, goals):\n",
    "    update_db(team, record, 'number of goals scored 2011')"
   ]
  },
  {
   "cell_type": "code",
   "execution_count": 994,
   "metadata": {},
   "outputs": [
    {
     "name": "stdout",
     "output_type": "stream",
     "text": [
      "{'_id': ObjectId('5d2633588e0a4f132d56ca60'), 'name': 'Bayern Munich', 'number of wins 2011': 14, 'number of goals scored 2011': 49, 'percentage of wins while raining': 73}\n",
      "{'_id': ObjectId('5d2633588e0a4f132d56ca61'), 'name': 'Dortmund', 'number of wins 2011': 14, 'number of goals scored 2011': 44, 'percentage of wins while raining': 60}\n",
      "{'_id': ObjectId('5d2633588e0a4f132d56ca62'), 'name': 'Leverkusen', 'number of wins 2011': 8, 'number of goals scored 2011': 28, 'percentage of wins while raining': 43}\n",
      "{'_id': ObjectId('5d2633588e0a4f132d56ca63'), 'name': 'RB Leipzig'}\n",
      "{'_id': ObjectId('5d2633588e0a4f132d56ca64'), 'name': 'Schalke 04', 'number of wins 2011': 13, 'number of goals scored 2011': 47, 'percentage of wins while raining': 50}\n",
      "{'_id': ObjectId('5d2633588e0a4f132d56ca65'), 'name': \"M'gladbach\", 'number of wins 2011': 9, 'number of goals scored 2011': 29, 'percentage of wins while raining': 73}\n",
      "{'_id': ObjectId('5d2633588e0a4f132d56ca66'), 'name': 'Wolfsburg', 'number of wins 2011': 10, 'number of goals scored 2011': 29, 'percentage of wins while raining': 33}\n",
      "{'_id': ObjectId('5d2633588e0a4f132d56ca67'), 'name': 'FC Koln', 'number of wins 2011': 5, 'number of goals scored 2011': 20, 'percentage of wins while raining': 31}\n",
      "{'_id': ObjectId('5d2633588e0a4f132d56ca68'), 'name': 'Hoffenheim', 'number of wins 2011': 4, 'number of goals scored 2011': 21, 'percentage of wins while raining': 20}\n",
      "{'_id': ObjectId('5d2633588e0a4f132d56ca69'), 'name': 'Hertha', 'number of wins 2011': 4, 'number of goals scored 2011': 19, 'percentage of wins while raining': 30}\n",
      "{'_id': ObjectId('5d2633588e0a4f132d56ca6a'), 'name': 'Mainz', 'number of wins 2011': 7, 'number of goals scored 2011': 27, 'percentage of wins while raining': 20}\n",
      "{'_id': ObjectId('5d2633588e0a4f132d56ca6b'), 'name': 'Hamburg', 'number of wins 2011': 3, 'number of goals scored 2011': 19, 'percentage of wins while raining': 15}\n",
      "{'_id': ObjectId('5d2633588e0a4f132d56ca6c'), 'name': 'Werder Bremen', 'number of wins 2011': 8, 'number of goals scored 2011': 31, 'percentage of wins while raining': 50}\n",
      "{'_id': ObjectId('5d2633588e0a4f132d56ca6d'), 'name': 'Ein Frankfurt', 'number of wins 2011': 11, 'number of goals scored 2011': 38, 'percentage of wins while raining': 33}\n",
      "{'_id': ObjectId('5d2633588e0a4f132d56ca6e'), 'name': 'Augsburg', 'number of wins 2011': 6, 'number of goals scored 2011': 20, 'percentage of wins while raining': 36}\n",
      "{'_id': ObjectId('5d2633588e0a4f132d56ca6f'), 'name': 'Freiburg', 'number of wins 2011': 6, 'number of goals scored 2011': 24, 'percentage of wins while raining': 27}\n",
      "{'_id': ObjectId('5d2633588e0a4f132d56ca70'), 'name': 'Stuttgart', 'number of wins 2011': 10, 'number of goals scored 2011': 36, 'percentage of wins while raining': 43}\n",
      "{'_id': ObjectId('5d2633588e0a4f132d56ca71'), 'name': 'Hannover', 'number of wins 2011': 10, 'number of goals scored 2011': 31, 'percentage of wins while raining': 42}\n",
      "{'_id': ObjectId('5d2633588e0a4f132d56ca72'), 'name': 'Ingolstadt', 'number of wins 2011': 6, 'number of goals scored 2011': 28, 'percentage of wins while raining': 14}\n",
      "{'_id': ObjectId('5d2633588e0a4f132d56ca73'), 'name': 'Darmstadt'}\n",
      "{'_id': ObjectId('5d2633588e0a4f132d56ca74'), 'name': 'Paderborn', 'number of wins 2011': 9, 'number of goals scored 2011': 28, 'percentage of wins while raining': 50}\n",
      "{'_id': ObjectId('5d2633588e0a4f132d56ca75'), 'name': 'Nurnberg', 'number of wins 2011': 6, 'number of goals scored 2011': 22, 'percentage of wins while raining': 56}\n",
      "{'_id': ObjectId('5d2633588e0a4f132d56ca76'), 'name': 'Braunschweig', 'number of wins 2011': 6, 'number of goals scored 2011': 21, 'percentage of wins while raining': 44}\n",
      "{'_id': ObjectId('5d2633588e0a4f132d56ca77'), 'name': 'Greuther Furth', 'number of wins 2011': 14, 'number of goals scored 2011': 46, 'percentage of wins while raining': 57}\n",
      "{'_id': ObjectId('5d2633588e0a4f132d56ca78'), 'name': 'Fortuna Dusseldorf', 'number of wins 2011': 11, 'number of goals scored 2011': 35, 'percentage of wins while raining': 38}\n",
      "{'_id': ObjectId('5d2633588e0a4f132d56ca79'), 'name': 'Kaiserslautern', 'number of wins 2011': 2, 'number of goals scored 2011': 12, 'percentage of wins while raining': 0}\n",
      "{'_id': ObjectId('5d2633588e0a4f132d56ca7a'), 'name': 'St Pauli', 'number of wins 2011': 12, 'number of goals scored 2011': 36, 'percentage of wins while raining': 73}\n",
      "{'_id': ObjectId('5d2633588e0a4f132d56ca7b'), 'name': 'Bochum', 'number of wins 2011': 7, 'number of goals scored 2011': 23, 'percentage of wins while raining': 27}\n",
      "{'_id': ObjectId('5d2633588e0a4f132d56ca7c'), 'name': 'Karlsruhe', 'number of wins 2011': 8, 'number of goals scored 2011': 23, 'percentage of wins while raining': 27}\n",
      "{'_id': ObjectId('5d2633588e0a4f132d56ca7d'), 'name': 'Bielefeld'}\n",
      "{'_id': ObjectId('5d2633588e0a4f132d56ca7e'), 'name': 'Cottbus', 'number of wins 2011': 4, 'number of goals scored 2011': 18, 'percentage of wins while raining': 30}\n",
      "{'_id': ObjectId('5d2633588e0a4f132d56ca7f'), 'name': 'Duisburg', 'number of wins 2011': 8, 'number of goals scored 2011': 23, 'percentage of wins while raining': 25}\n",
      "{'_id': ObjectId('5d2633588e0a4f132d56ca80'), 'name': 'Hansa Rostock', 'number of wins 2011': 3, 'number of goals scored 2011': 20, 'percentage of wins while raining': 7}\n",
      "{'_id': ObjectId('5d2633588e0a4f132d56ca81'), 'name': 'Aachen', 'number of wins 2011': 4, 'number of goals scored 2011': 15, 'percentage of wins while raining': 23}\n",
      "{'_id': ObjectId('5d2633588e0a4f132d56ca82'), 'name': 'Union Berlin', 'number of wins 2011': 11, 'number of goals scored 2011': 30, 'percentage of wins while raining': 45}\n",
      "{'_id': ObjectId('5d2633588e0a4f132d56ca83'), 'name': 'Heidenheim'}\n",
      "{'_id': ObjectId('5d2633588e0a4f132d56ca84'), 'name': 'Dresden', 'number of wins 2011': 8, 'number of goals scored 2011': 30, 'percentage of wins while raining': 33}\n",
      "{'_id': ObjectId('5d2633588e0a4f132d56ca85'), 'name': 'Sandhausen'}\n",
      "{'_id': ObjectId('5d2633588e0a4f132d56ca86'), 'name': 'Erzgebirge Aue', 'number of wins 2011': 5, 'number of goals scored 2011': 19, 'percentage of wins while raining': 9}\n",
      "{'_id': ObjectId('5d2633588e0a4f132d56ca87'), 'name': 'Kiel'}\n",
      "{'_id': ObjectId('5d2633588e0a4f132d56ca88'), 'name': 'Regensburg'}\n",
      "{'_id': ObjectId('5d2633588e0a4f132d56ca89'), 'name': 'Munich 1860', 'number of wins 2011': 10, 'number of goals scored 2011': 35, 'percentage of wins while raining': 65}\n",
      "{'_id': ObjectId('5d2633588e0a4f132d56ca8a'), 'name': 'Wurzburger Kickers'}\n",
      "{'_id': ObjectId('5d2633588e0a4f132d56ca8b'), 'name': 'Frankfurt FSV', 'number of wins 2011': 3, 'number of goals scored 2011': 20, 'percentage of wins while raining': 7}\n",
      "{'_id': ObjectId('5d2633588e0a4f132d56ca8c'), 'name': 'Aalen'}\n",
      "{'_id': ObjectId('5d2633588e0a4f132d56ca8d'), 'name': 'Oberhausen'}\n",
      "{'_id': ObjectId('5d2633588e0a4f132d56ca8e'), 'name': 'Osnabruck'}\n",
      "{'_id': ObjectId('5d2633588e0a4f132d56ca8f'), 'name': 'Koblenz'}\n",
      "{'_id': ObjectId('5d2633588e0a4f132d56ca90'), 'name': 'Ahlen'}\n",
      "{'_id': ObjectId('5d2633588e0a4f132d56ca91'), 'name': 'Wehen'}\n",
      "{'_id': ObjectId('5d2633588e0a4f132d56ca92'), 'name': 'CZ Jena'}\n",
      "{'_id': ObjectId('5d2633588e0a4f132d56ca93'), 'name': 'Offenbach'}\n",
      "{'_id': ObjectId('5d2633588e0a4f132d56ca94'), 'name': 'Essen'}\n",
      "{'_id': ObjectId('5d2633588e0a4f132d56ca95'), 'name': 'Burghausen'}\n",
      "{'_id': ObjectId('5d2633588e0a4f132d56ca96'), 'name': 'Unterhaching'}\n",
      "{'_id': ObjectId('5d2633588e0a4f132d56ca97'), 'name': 'Saarbrucken'}\n",
      "{'_id': ObjectId('5d2633588e0a4f132d56ca98'), 'name': 'Siegen'}\n",
      "{'_id': ObjectId('5d2633588e0a4f132d56ca99'), 'name': 'Babelsberg'}\n",
      "{'_id': ObjectId('5d2633588e0a4f132d56ca9a'), 'name': 'Chemnitz'}\n",
      "{'_id': ObjectId('5d2633588e0a4f132d56ca9b'), 'name': 'Ein Trier'}\n",
      "{'_id': ObjectId('5d2633588e0a4f132d56ca9c'), 'name': 'Erfurt'}\n",
      "{'_id': ObjectId('5d2633588e0a4f132d56ca9d'), 'name': 'F Koln'}\n",
      "{'_id': ObjectId('5d2633588e0a4f132d56ca9e'), 'name': 'Gutersloh'}\n",
      "{'_id': ObjectId('5d2633588e0a4f132d56ca9f'), 'name': 'Homburg'}\n",
      "{'_id': ObjectId('5d2633588e0a4f132d56caa0'), 'name': 'Leipzig'}\n",
      "{'_id': ObjectId('5d2633588e0a4f132d56caa1'), 'name': 'Lubeck'}\n",
      "{'_id': ObjectId('5d2633588e0a4f132d56caa2'), 'name': 'Mannheim'}\n",
      "{'_id': ObjectId('5d2633588e0a4f132d56caa3'), 'name': 'Meppen'}\n",
      "{'_id': ObjectId('5d2633588e0a4f132d56caa4'), 'name': 'Oldenburg'}\n",
      "{'_id': ObjectId('5d2633588e0a4f132d56caa5'), 'name': 'Reutlingen'}\n",
      "{'_id': ObjectId('5d2633588e0a4f132d56caa6'), 'name': 'Schweinfurt'}\n",
      "{'_id': ObjectId('5d2633588e0a4f132d56caa7'), 'name': 'Stuttgarter K'}\n",
      "{'_id': ObjectId('5d2633588e0a4f132d56caa8'), 'name': 'TB Berlin'}\n",
      "{'_id': ObjectId('5d2633588e0a4f132d56caa9'), 'name': 'Uerdingen'}\n",
      "{'_id': ObjectId('5d2633588e0a4f132d56caaa'), 'name': 'Ulm'}\n",
      "{'_id': ObjectId('5d2633588e0a4f132d56caab'), 'name': 'Wattenscheid'}\n",
      "{'_id': ObjectId('5d2633588e0a4f132d56caac'), 'name': 'Wuppertaler'}\n",
      "{'_id': ObjectId('5d2633588e0a4f132d56caad'), 'name': 'Zwickau'}\n",
      "{'_id': ObjectId('5d2633588e0a4f132d56caae'), 'name': 'RW Essen'}\n",
      "{'_id': ObjectId('5d2633588e0a4f132d56caaf'), 'name': \"M'Gladbach\"}\n",
      "{'_id': ObjectId('5d2633588e0a4f132d56cab0'), 'name': 'Arsenal', 'number of wins 2011': 12, 'number of goals scored 2011': 39, 'percentage of wins while raining': 57}\n",
      "{'_id': ObjectId('5d2633588e0a4f132d56cab1'), 'name': 'Aston Villa', 'number of wins 2011': 4, 'number of goals scored 2011': 20, 'percentage of wins while raining': 17}\n",
      "{'_id': ObjectId('5d2633588e0a4f132d56cab2'), 'name': 'Chelsea', 'number of wins 2011': 12, 'number of goals scored 2011': 41, 'percentage of wins while raining': 57}\n",
      "{'_id': ObjectId('5d2633588e0a4f132d56cab3'), 'name': 'Liverpool', 'number of wins 2011': 6, 'number of goals scored 2011': 24, 'percentage of wins while raining': 40}\n",
      "{'_id': ObjectId('5d2633588e0a4f132d56cab4'), 'name': 'Man City', 'number of wins 2011': 18, 'number of goals scored 2011': 55, 'percentage of wins while raining': 69}\n",
      "{'_id': ObjectId('5d2633588e0a4f132d56cab5'), 'name': 'Newcastle', 'number of wins 2011': 11, 'number of goals scored 2011': 29, 'percentage of wins while raining': 23}\n",
      "{'_id': ObjectId('5d2633588e0a4f132d56cab6'), 'name': 'Oldham'}\n",
      "{'_id': ObjectId('5d2633588e0a4f132d56cab7'), 'name': 'Sheffield United'}\n",
      "{'_id': ObjectId('5d2633588e0a4f132d56cab8'), 'name': 'Southampton'}\n",
      "{'_id': ObjectId('5d2633588e0a4f132d56cab9'), 'name': 'West Ham'}\n",
      "{'_id': ObjectId('5d2633588e0a4f132d56caba'), 'name': 'Norwich', 'number of wins 2011': 7, 'number of goals scored 2011': 28, 'percentage of wins while raining': 30}\n",
      "{'_id': ObjectId('5d2633588e0a4f132d56cabb'), 'name': 'Tottenham', 'number of wins 2011': 13, 'number of goals scored 2011': 39, 'percentage of wins while raining': 69}\n",
      "{'_id': ObjectId('5d2633588e0a4f132d56cabc'), 'name': 'Everton', 'number of wins 2011': 10, 'number of goals scored 2011': 28, 'percentage of wins while raining': 46}\n",
      "{'_id': ObjectId('5d2633588e0a4f132d56cabd'), 'name': 'Ipswich'}\n",
      "{'_id': ObjectId('5d2633588e0a4f132d56cabe'), 'name': 'Leeds'}\n",
      "{'_id': ObjectId('5d2633588e0a4f132d56cabf'), 'name': 'Wimbledon'}\n",
      "{'_id': ObjectId('5d2633588e0a4f132d56cac0'), 'name': 'Blackburn', 'number of wins 2011': 6, 'number of goals scored 2011': 26, 'percentage of wins while raining': 10}\n",
      "{'_id': ObjectId('5d2633588e0a4f132d56cac1'), 'name': 'Coventry'}\n",
      "{'_id': ObjectId('5d2633588e0a4f132d56cac2'), 'name': 'Man United', 'number of wins 2011': 15, 'number of goals scored 2011': 52, 'percentage of wins while raining': 80}\n",
      "{'_id': ObjectId('5d2633588e0a4f132d56cac3'), 'name': 'QPR', 'number of wins 2011': 7, 'number of goals scored 2011': 24, 'percentage of wins while raining': 23}\n",
      "{'_id': ObjectId('5d2633588e0a4f132d56cac4'), 'name': 'Sheffield Weds'}\n",
      "{'_id': ObjectId('5d2633588e0a4f132d56cac5'), 'name': 'Swindon'}\n",
      "{'_id': ObjectId('5d2633588e0a4f132d56cac6'), 'name': 'Crystal Palace'}\n",
      "{'_id': ObjectId('5d2633588e0a4f132d56cac7'), 'name': 'Leicester'}\n",
      "{'_id': ObjectId('5d2633588e0a4f132d56cac8'), 'name': \"Nott'm Forest\"}\n",
      "{'_id': ObjectId('5d2633588e0a4f132d56cac9'), 'name': 'Bolton', 'number of wins 2011': 4, 'number of goals scored 2011': 23, 'percentage of wins while raining': 33}\n",
      "{'_id': ObjectId('5d2633588e0a4f132d56caca'), 'name': 'Middlesbrough'}\n",
      "{'_id': ObjectId('5d2633588e0a4f132d56cacb'), 'name': 'Derby'}\n",
      "{'_id': ObjectId('5d2633588e0a4f132d56cacc'), 'name': 'Sunderland', 'number of wins 2011': 7, 'number of goals scored 2011': 26, 'percentage of wins while raining': 31}\n",
      "{'_id': ObjectId('5d2633588e0a4f132d56cacd'), 'name': 'Barnsley'}\n",
      "{'_id': ObjectId('5d2633588e0a4f132d56cace'), 'name': 'Charlton'}\n",
      "{'_id': ObjectId('5d2633588e0a4f132d56cacf'), 'name': 'Watford'}\n",
      "{'_id': ObjectId('5d2633588e0a4f132d56cad0'), 'name': 'Bradford'}\n",
      "{'_id': ObjectId('5d2633588e0a4f132d56cad1'), 'name': 'Fulham', 'number of wins 2011': 10, 'number of goals scored 2011': 36, 'percentage of wins while raining': 33}\n",
      "{'_id': ObjectId('5d2633588e0a4f132d56cad2'), 'name': 'Birmingham'}\n",
      "{'_id': ObjectId('5d2633588e0a4f132d56cad3'), 'name': 'Middlesboro'}\n",
      "{'_id': ObjectId('5d2633588e0a4f132d56cad4'), 'name': 'West Brom', 'number of wins 2011': 6, 'number of goals scored 2011': 21, 'percentage of wins while raining': 29}\n",
      "{'_id': ObjectId('5d2633588e0a4f132d56cad5'), 'name': 'Portsmouth'}\n",
      "{'_id': ObjectId('5d2633588e0a4f132d56cad6'), 'name': 'Wolves', 'number of wins 2011': 3, 'number of goals scored 2011': 19, 'percentage of wins while raining': 10}\n",
      "{'_id': ObjectId('5d2633588e0a4f132d56cad7'), 'name': 'Wigan', 'number of wins 2011': 5, 'number of goals scored 2011': 22, 'percentage of wins while raining': 33}\n",
      "{'_id': ObjectId('5d2633588e0a4f132d56cad8'), 'name': 'Reading'}\n",
      "{'_id': ObjectId('5d2633588e0a4f132d56cad9'), 'name': 'Hull'}\n",
      "{'_id': ObjectId('5d2633588e0a4f132d56cada'), 'name': 'Stoke', 'number of wins 2011': 7, 'number of goals scored 2011': 25, 'percentage of wins while raining': 33}\n",
      "{'_id': ObjectId('5d2633588e0a4f132d56cadb'), 'name': 'Burnley'}\n",
      "{'_id': ObjectId('5d2633588e0a4f132d56cadc'), 'name': 'Blackpool'}\n",
      "{'_id': ObjectId('5d2633588e0a4f132d56cadd'), 'name': 'Swansea', 'number of wins 2011': 8, 'number of goals scored 2011': 27, 'percentage of wins while raining': 20}\n",
      "{'_id': ObjectId('5d2633588e0a4f132d56cade'), 'name': 'Cardiff'}\n",
      "{'_id': ObjectId('5d2633588e0a4f132d56cadf'), 'name': 'Bournemouth'}\n"
     ]
    }
   ],
   "source": [
    "query4 = mycoll.find({})\n",
    "for i in query4:\n",
    "    print(i)"
   ]
  },
  {
   "cell_type": "code",
   "execution_count": 993,
   "metadata": {},
   "outputs": [],
   "source": [
    "for team, record in zip(alph_teams_2011, teams_win_perc):\n",
    "    update_db(team, record, 'percentage of wins while raining')"
   ]
  },
  {
   "cell_type": "code",
   "execution_count": 999,
   "metadata": {},
   "outputs": [],
   "source": [
    "test = outcomes[0]"
   ]
  },
  {
   "cell_type": "code",
   "execution_count": 1000,
   "metadata": {},
   "outputs": [
    {
     "data": {
      "text/plain": [
       "(array([4., 0., 0., 7.]),\n",
       " array([0.  , 0.25, 0.5 , 0.75, 1.  ]),\n",
       " <a list of 4 Patch objects>)"
      ]
     },
     "execution_count": 1000,
     "metadata": {},
     "output_type": "execute_result"
    }
   ],
   "source": [
    "get_hist(test)"
   ]
  },
  {
   "cell_type": "code",
   "execution_count": 1001,
   "metadata": {},
   "outputs": [
    {
     "ename": "InvalidDocument",
     "evalue": "cannot encode object: array([4., 0., 0., 7.]), of type: <class 'numpy.ndarray'>",
     "output_type": "error",
     "traceback": [
      "\u001b[0;31m---------------------------------------------------------------------------\u001b[0m",
      "\u001b[0;31mInvalidDocument\u001b[0m                           Traceback (most recent call last)",
      "\u001b[0;32m<ipython-input-1001-f1d57122214e>\u001b[0m in \u001b[0;36m<module>\u001b[0;34m\u001b[0m\n\u001b[1;32m      1\u001b[0m \u001b[0;32mfor\u001b[0m \u001b[0mteam\u001b[0m\u001b[0;34m,\u001b[0m \u001b[0mrecord\u001b[0m \u001b[0;32min\u001b[0m \u001b[0mzip\u001b[0m\u001b[0;34m(\u001b[0m\u001b[0malph_teams_2011\u001b[0m\u001b[0;34m,\u001b[0m \u001b[0moutcomes\u001b[0m\u001b[0;34m)\u001b[0m\u001b[0;34m:\u001b[0m\u001b[0;34m\u001b[0m\u001b[0;34m\u001b[0m\u001b[0m\n\u001b[0;32m----> 2\u001b[0;31m     \u001b[0mupdate_db\u001b[0m\u001b[0;34m(\u001b[0m\u001b[0mteam\u001b[0m\u001b[0;34m,\u001b[0m \u001b[0mget_hist\u001b[0m\u001b[0;34m(\u001b[0m\u001b[0mrecord\u001b[0m\u001b[0;34m)\u001b[0m\u001b[0;34m,\u001b[0m \u001b[0;34m'histogram of wins and losses'\u001b[0m\u001b[0;34m)\u001b[0m\u001b[0;34m\u001b[0m\u001b[0;34m\u001b[0m\u001b[0m\n\u001b[0m\u001b[1;32m      3\u001b[0m     \u001b[0;32mdel\u001b[0m\u001b[0;34m(\u001b[0m\u001b[0mhist\u001b[0m\u001b[0;34m)\u001b[0m\u001b[0;34m\u001b[0m\u001b[0;34m\u001b[0m\u001b[0m\n",
      "\u001b[0;32m<ipython-input-982-c46e4c17d49d>\u001b[0m in \u001b[0;36mupdate_db\u001b[0;34m(team_name, update, update_text)\u001b[0m\n\u001b[1;32m      2\u001b[0m     \u001b[0mrecord_to_update\u001b[0m \u001b[0;34m=\u001b[0m \u001b[0;34m{\u001b[0m\u001b[0;34m'name'\u001b[0m\u001b[0;34m:\u001b[0m \u001b[0mteam_name\u001b[0m\u001b[0;34m}\u001b[0m\u001b[0;34m\u001b[0m\u001b[0;34m\u001b[0m\u001b[0m\n\u001b[1;32m      3\u001b[0m     \u001b[0mupdate1\u001b[0m \u001b[0;34m=\u001b[0m \u001b[0;34m{\u001b[0m\u001b[0;34m'$set'\u001b[0m\u001b[0;34m:\u001b[0m\u001b[0;34m{\u001b[0m\u001b[0mupdate_text\u001b[0m\u001b[0;34m:\u001b[0m \u001b[0mupdate\u001b[0m\u001b[0;34m}\u001b[0m\u001b[0;34m}\u001b[0m\u001b[0;34m\u001b[0m\u001b[0;34m\u001b[0m\u001b[0m\n\u001b[0;32m----> 4\u001b[0;31m     \u001b[0mmycoll\u001b[0m\u001b[0;34m.\u001b[0m\u001b[0mupdate_one\u001b[0m\u001b[0;34m(\u001b[0m\u001b[0mrecord_to_update\u001b[0m\u001b[0;34m,\u001b[0m \u001b[0mupdate1\u001b[0m\u001b[0;34m)\u001b[0m\u001b[0;34m\u001b[0m\u001b[0;34m\u001b[0m\u001b[0m\n\u001b[0m\u001b[1;32m      5\u001b[0m     \u001b[0;32mreturn\u001b[0m \u001b[0;32mNone\u001b[0m\u001b[0;34m\u001b[0m\u001b[0;34m\u001b[0m\u001b[0m\n",
      "\u001b[0;32m/anaconda3/lib/python3.7/site-packages/pymongo/collection.py\u001b[0m in \u001b[0;36mupdate_one\u001b[0;34m(self, filter, update, upsert, bypass_document_validation, collation, array_filters, session)\u001b[0m\n\u001b[1;32m   1000\u001b[0m                 \u001b[0mbypass_doc_val\u001b[0m\u001b[0;34m=\u001b[0m\u001b[0mbypass_document_validation\u001b[0m\u001b[0;34m,\u001b[0m\u001b[0;34m\u001b[0m\u001b[0;34m\u001b[0m\u001b[0m\n\u001b[1;32m   1001\u001b[0m                 \u001b[0mcollation\u001b[0m\u001b[0;34m=\u001b[0m\u001b[0mcollation\u001b[0m\u001b[0;34m,\u001b[0m \u001b[0marray_filters\u001b[0m\u001b[0;34m=\u001b[0m\u001b[0marray_filters\u001b[0m\u001b[0;34m,\u001b[0m\u001b[0;34m\u001b[0m\u001b[0;34m\u001b[0m\u001b[0m\n\u001b[0;32m-> 1002\u001b[0;31m                 session=session),\n\u001b[0m\u001b[1;32m   1003\u001b[0m             write_concern.acknowledged)\n\u001b[1;32m   1004\u001b[0m \u001b[0;34m\u001b[0m\u001b[0m\n",
      "\u001b[0;32m/anaconda3/lib/python3.7/site-packages/pymongo/collection.py\u001b[0m in \u001b[0;36m_update_retryable\u001b[0;34m(self, criteria, document, upsert, check_keys, multi, manipulate, write_concern, op_id, ordered, bypass_doc_val, collation, array_filters, session)\u001b[0m\n\u001b[1;32m    856\u001b[0m         return self.__database.client._retryable_write(\n\u001b[1;32m    857\u001b[0m             \u001b[0;34m(\u001b[0m\u001b[0mwrite_concern\u001b[0m \u001b[0;32mor\u001b[0m \u001b[0mself\u001b[0m\u001b[0;34m.\u001b[0m\u001b[0mwrite_concern\u001b[0m\u001b[0;34m)\u001b[0m\u001b[0;34m.\u001b[0m\u001b[0macknowledged\u001b[0m \u001b[0;32mand\u001b[0m \u001b[0;32mnot\u001b[0m \u001b[0mmulti\u001b[0m\u001b[0;34m,\u001b[0m\u001b[0;34m\u001b[0m\u001b[0;34m\u001b[0m\u001b[0m\n\u001b[0;32m--> 858\u001b[0;31m             _update, session)\n\u001b[0m\u001b[1;32m    859\u001b[0m \u001b[0;34m\u001b[0m\u001b[0m\n\u001b[1;32m    860\u001b[0m     def replace_one(self, filter, replacement, upsert=False,\n",
      "\u001b[0;32m/anaconda3/lib/python3.7/site-packages/pymongo/mongo_client.py\u001b[0m in \u001b[0;36m_retryable_write\u001b[0;34m(self, retryable, func, session)\u001b[0m\n\u001b[1;32m   1278\u001b[0m         \u001b[0;34m\"\"\"Internal retryable write helper.\"\"\"\u001b[0m\u001b[0;34m\u001b[0m\u001b[0;34m\u001b[0m\u001b[0m\n\u001b[1;32m   1279\u001b[0m         \u001b[0;32mwith\u001b[0m \u001b[0mself\u001b[0m\u001b[0;34m.\u001b[0m\u001b[0m_tmp_session\u001b[0m\u001b[0;34m(\u001b[0m\u001b[0msession\u001b[0m\u001b[0;34m)\u001b[0m \u001b[0;32mas\u001b[0m \u001b[0ms\u001b[0m\u001b[0;34m:\u001b[0m\u001b[0;34m\u001b[0m\u001b[0;34m\u001b[0m\u001b[0m\n\u001b[0;32m-> 1280\u001b[0;31m             \u001b[0;32mreturn\u001b[0m \u001b[0mself\u001b[0m\u001b[0;34m.\u001b[0m\u001b[0m_retry_with_session\u001b[0m\u001b[0;34m(\u001b[0m\u001b[0mretryable\u001b[0m\u001b[0;34m,\u001b[0m \u001b[0mfunc\u001b[0m\u001b[0;34m,\u001b[0m \u001b[0ms\u001b[0m\u001b[0;34m,\u001b[0m \u001b[0;32mNone\u001b[0m\u001b[0;34m)\u001b[0m\u001b[0;34m\u001b[0m\u001b[0;34m\u001b[0m\u001b[0m\n\u001b[0m\u001b[1;32m   1281\u001b[0m \u001b[0;34m\u001b[0m\u001b[0m\n\u001b[1;32m   1282\u001b[0m     \u001b[0;32mdef\u001b[0m \u001b[0m__reset_server\u001b[0m\u001b[0;34m(\u001b[0m\u001b[0mself\u001b[0m\u001b[0;34m,\u001b[0m \u001b[0maddress\u001b[0m\u001b[0;34m)\u001b[0m\u001b[0;34m:\u001b[0m\u001b[0;34m\u001b[0m\u001b[0;34m\u001b[0m\u001b[0m\n",
      "\u001b[0;32m/anaconda3/lib/python3.7/site-packages/pymongo/mongo_client.py\u001b[0m in \u001b[0;36m_retry_with_session\u001b[0;34m(self, retryable, func, session, bulk)\u001b[0m\n\u001b[1;32m   1231\u001b[0m                             \u001b[0;32mraise\u001b[0m \u001b[0mlast_error\u001b[0m\u001b[0;34m\u001b[0m\u001b[0;34m\u001b[0m\u001b[0m\n\u001b[1;32m   1232\u001b[0m                         \u001b[0mretryable\u001b[0m \u001b[0;34m=\u001b[0m \u001b[0;32mFalse\u001b[0m\u001b[0;34m\u001b[0m\u001b[0;34m\u001b[0m\u001b[0m\n\u001b[0;32m-> 1233\u001b[0;31m                     \u001b[0;32mreturn\u001b[0m \u001b[0mfunc\u001b[0m\u001b[0;34m(\u001b[0m\u001b[0msession\u001b[0m\u001b[0;34m,\u001b[0m \u001b[0msock_info\u001b[0m\u001b[0;34m,\u001b[0m \u001b[0mretryable\u001b[0m\u001b[0;34m)\u001b[0m\u001b[0;34m\u001b[0m\u001b[0;34m\u001b[0m\u001b[0m\n\u001b[0m\u001b[1;32m   1234\u001b[0m             \u001b[0;32mexcept\u001b[0m \u001b[0mServerSelectionTimeoutError\u001b[0m\u001b[0;34m:\u001b[0m\u001b[0;34m\u001b[0m\u001b[0;34m\u001b[0m\u001b[0m\n\u001b[1;32m   1235\u001b[0m                 \u001b[0;32mif\u001b[0m \u001b[0mis_retrying\u001b[0m\u001b[0;34m(\u001b[0m\u001b[0;34m)\u001b[0m\u001b[0;34m:\u001b[0m\u001b[0;34m\u001b[0m\u001b[0;34m\u001b[0m\u001b[0m\n",
      "\u001b[0;32m/anaconda3/lib/python3.7/site-packages/pymongo/collection.py\u001b[0m in \u001b[0;36m_update\u001b[0;34m(session, sock_info, retryable_write)\u001b[0m\n\u001b[1;32m    852\u001b[0m                 \u001b[0mbypass_doc_val\u001b[0m\u001b[0;34m=\u001b[0m\u001b[0mbypass_doc_val\u001b[0m\u001b[0;34m,\u001b[0m \u001b[0mcollation\u001b[0m\u001b[0;34m=\u001b[0m\u001b[0mcollation\u001b[0m\u001b[0;34m,\u001b[0m\u001b[0;34m\u001b[0m\u001b[0;34m\u001b[0m\u001b[0m\n\u001b[1;32m    853\u001b[0m                 \u001b[0marray_filters\u001b[0m\u001b[0;34m=\u001b[0m\u001b[0marray_filters\u001b[0m\u001b[0;34m,\u001b[0m \u001b[0msession\u001b[0m\u001b[0;34m=\u001b[0m\u001b[0msession\u001b[0m\u001b[0;34m,\u001b[0m\u001b[0;34m\u001b[0m\u001b[0;34m\u001b[0m\u001b[0m\n\u001b[0;32m--> 854\u001b[0;31m                 retryable_write=retryable_write)\n\u001b[0m\u001b[1;32m    855\u001b[0m \u001b[0;34m\u001b[0m\u001b[0m\n\u001b[1;32m    856\u001b[0m         return self.__database.client._retryable_write(\n",
      "\u001b[0;32m/anaconda3/lib/python3.7/site-packages/pymongo/collection.py\u001b[0m in \u001b[0;36m_update\u001b[0;34m(self, sock_info, criteria, document, upsert, check_keys, multi, manipulate, write_concern, op_id, ordered, bypass_doc_val, collation, array_filters, session, retryable_write)\u001b[0m\n\u001b[1;32m    822\u001b[0m             \u001b[0msession\u001b[0m\u001b[0;34m=\u001b[0m\u001b[0msession\u001b[0m\u001b[0;34m,\u001b[0m\u001b[0;34m\u001b[0m\u001b[0;34m\u001b[0m\u001b[0m\n\u001b[1;32m    823\u001b[0m             \u001b[0mclient\u001b[0m\u001b[0;34m=\u001b[0m\u001b[0mself\u001b[0m\u001b[0;34m.\u001b[0m\u001b[0m__database\u001b[0m\u001b[0;34m.\u001b[0m\u001b[0mclient\u001b[0m\u001b[0;34m,\u001b[0m\u001b[0;34m\u001b[0m\u001b[0;34m\u001b[0m\u001b[0m\n\u001b[0;32m--> 824\u001b[0;31m             retryable_write=retryable_write).copy()\n\u001b[0m\u001b[1;32m    825\u001b[0m         \u001b[0m_check_write_command_response\u001b[0m\u001b[0;34m(\u001b[0m\u001b[0mresult\u001b[0m\u001b[0;34m)\u001b[0m\u001b[0;34m\u001b[0m\u001b[0;34m\u001b[0m\u001b[0m\n\u001b[1;32m    826\u001b[0m         \u001b[0;31m# Add the updatedExisting field for compatibility.\u001b[0m\u001b[0;34m\u001b[0m\u001b[0;34m\u001b[0m\u001b[0;34m\u001b[0m\u001b[0m\n",
      "\u001b[0;32m/anaconda3/lib/python3.7/site-packages/pymongo/pool.py\u001b[0m in \u001b[0;36mcommand\u001b[0;34m(self, dbname, spec, slave_ok, read_preference, codec_options, check, allowable_errors, check_keys, read_concern, write_concern, parse_write_concern_error, collation, session, client, retryable_write, publish_events, user_fields)\u001b[0m\n\u001b[1;32m    587\u001b[0m         \u001b[0;31m# Catch socket.error, KeyboardInterrupt, etc. and close ourselves.\u001b[0m\u001b[0;34m\u001b[0m\u001b[0;34m\u001b[0m\u001b[0;34m\u001b[0m\u001b[0m\n\u001b[1;32m    588\u001b[0m         \u001b[0;32mexcept\u001b[0m \u001b[0mBaseException\u001b[0m \u001b[0;32mas\u001b[0m \u001b[0merror\u001b[0m\u001b[0;34m:\u001b[0m\u001b[0;34m\u001b[0m\u001b[0;34m\u001b[0m\u001b[0m\n\u001b[0;32m--> 589\u001b[0;31m             \u001b[0mself\u001b[0m\u001b[0;34m.\u001b[0m\u001b[0m_raise_connection_failure\u001b[0m\u001b[0;34m(\u001b[0m\u001b[0merror\u001b[0m\u001b[0;34m)\u001b[0m\u001b[0;34m\u001b[0m\u001b[0;34m\u001b[0m\u001b[0m\n\u001b[0m\u001b[1;32m    590\u001b[0m \u001b[0;34m\u001b[0m\u001b[0m\n\u001b[1;32m    591\u001b[0m     \u001b[0;32mdef\u001b[0m \u001b[0msend_message\u001b[0m\u001b[0;34m(\u001b[0m\u001b[0mself\u001b[0m\u001b[0;34m,\u001b[0m \u001b[0mmessage\u001b[0m\u001b[0;34m,\u001b[0m \u001b[0mmax_doc_size\u001b[0m\u001b[0;34m)\u001b[0m\u001b[0;34m:\u001b[0m\u001b[0;34m\u001b[0m\u001b[0;34m\u001b[0m\u001b[0m\n",
      "\u001b[0;32m/anaconda3/lib/python3.7/site-packages/pymongo/pool.py\u001b[0m in \u001b[0;36m_raise_connection_failure\u001b[0;34m(self, error)\u001b[0m\n\u001b[1;32m    748\u001b[0m             \u001b[0m_raise_connection_failure\u001b[0m\u001b[0;34m(\u001b[0m\u001b[0mself\u001b[0m\u001b[0;34m.\u001b[0m\u001b[0maddress\u001b[0m\u001b[0;34m,\u001b[0m \u001b[0merror\u001b[0m\u001b[0;34m)\u001b[0m\u001b[0;34m\u001b[0m\u001b[0;34m\u001b[0m\u001b[0m\n\u001b[1;32m    749\u001b[0m         \u001b[0;32melse\u001b[0m\u001b[0;34m:\u001b[0m\u001b[0;34m\u001b[0m\u001b[0;34m\u001b[0m\u001b[0m\n\u001b[0;32m--> 750\u001b[0;31m             \u001b[0;32mraise\u001b[0m \u001b[0merror\u001b[0m\u001b[0;34m\u001b[0m\u001b[0;34m\u001b[0m\u001b[0m\n\u001b[0m\u001b[1;32m    751\u001b[0m \u001b[0;34m\u001b[0m\u001b[0m\n\u001b[1;32m    752\u001b[0m     \u001b[0;32mdef\u001b[0m \u001b[0m__eq__\u001b[0m\u001b[0;34m(\u001b[0m\u001b[0mself\u001b[0m\u001b[0;34m,\u001b[0m \u001b[0mother\u001b[0m\u001b[0;34m)\u001b[0m\u001b[0;34m:\u001b[0m\u001b[0;34m\u001b[0m\u001b[0;34m\u001b[0m\u001b[0m\n",
      "\u001b[0;32m/anaconda3/lib/python3.7/site-packages/pymongo/pool.py\u001b[0m in \u001b[0;36mcommand\u001b[0;34m(self, dbname, spec, slave_ok, read_preference, codec_options, check, allowable_errors, check_keys, read_concern, write_concern, parse_write_concern_error, collation, session, client, retryable_write, publish_events, user_fields)\u001b[0m\n\u001b[1;32m    582\u001b[0m                            \u001b[0muse_op_msg\u001b[0m\u001b[0;34m=\u001b[0m\u001b[0mself\u001b[0m\u001b[0;34m.\u001b[0m\u001b[0mop_msg_enabled\u001b[0m\u001b[0;34m,\u001b[0m\u001b[0;34m\u001b[0m\u001b[0;34m\u001b[0m\u001b[0m\n\u001b[1;32m    583\u001b[0m                            \u001b[0munacknowledged\u001b[0m\u001b[0;34m=\u001b[0m\u001b[0munacknowledged\u001b[0m\u001b[0;34m,\u001b[0m\u001b[0;34m\u001b[0m\u001b[0;34m\u001b[0m\u001b[0m\n\u001b[0;32m--> 584\u001b[0;31m                            user_fields=user_fields)\n\u001b[0m\u001b[1;32m    585\u001b[0m         \u001b[0;32mexcept\u001b[0m \u001b[0mOperationFailure\u001b[0m\u001b[0;34m:\u001b[0m\u001b[0;34m\u001b[0m\u001b[0;34m\u001b[0m\u001b[0m\n\u001b[1;32m    586\u001b[0m             \u001b[0;32mraise\u001b[0m\u001b[0;34m\u001b[0m\u001b[0;34m\u001b[0m\u001b[0m\n",
      "\u001b[0;32m/anaconda3/lib/python3.7/site-packages/pymongo/network.py\u001b[0m in \u001b[0;36mcommand\u001b[0;34m(sock, dbname, spec, slave_ok, is_mongos, read_preference, codec_options, session, client, check, allowable_errors, address, check_keys, listeners, max_bson_size, read_concern, parse_write_concern_error, collation, compression_ctx, use_op_msg, unacknowledged, user_fields)\u001b[0m\n\u001b[1;32m    119\u001b[0m         request_id, msg, size, max_doc_size = message._op_msg(\n\u001b[1;32m    120\u001b[0m             \u001b[0mflags\u001b[0m\u001b[0;34m,\u001b[0m \u001b[0mspec\u001b[0m\u001b[0;34m,\u001b[0m \u001b[0mdbname\u001b[0m\u001b[0;34m,\u001b[0m \u001b[0mread_preference\u001b[0m\u001b[0;34m,\u001b[0m \u001b[0mslave_ok\u001b[0m\u001b[0;34m,\u001b[0m \u001b[0mcheck_keys\u001b[0m\u001b[0;34m,\u001b[0m\u001b[0;34m\u001b[0m\u001b[0;34m\u001b[0m\u001b[0m\n\u001b[0;32m--> 121\u001b[0;31m             codec_options, ctx=compression_ctx)\n\u001b[0m\u001b[1;32m    122\u001b[0m         \u001b[0;31m# If this is an unacknowledged write then make sure the encoded doc(s)\u001b[0m\u001b[0;34m\u001b[0m\u001b[0;34m\u001b[0m\u001b[0;34m\u001b[0m\u001b[0m\n\u001b[1;32m    123\u001b[0m         \u001b[0;31m# are small enough, otherwise rely on the server to return an error.\u001b[0m\u001b[0;34m\u001b[0m\u001b[0;34m\u001b[0m\u001b[0;34m\u001b[0m\u001b[0m\n",
      "\u001b[0;32m/anaconda3/lib/python3.7/site-packages/pymongo/message.py\u001b[0m in \u001b[0;36m_op_msg\u001b[0;34m(flags, command, dbname, read_preference, slave_ok, check_keys, opts, ctx)\u001b[0m\n\u001b[1;32m    676\u001b[0m                 flags, command, identifier, docs, check_keys, opts, ctx)\n\u001b[1;32m    677\u001b[0m         return _op_msg_uncompressed(\n\u001b[0;32m--> 678\u001b[0;31m             flags, command, identifier, docs, check_keys, opts)\n\u001b[0m\u001b[1;32m    679\u001b[0m     \u001b[0;32mfinally\u001b[0m\u001b[0;34m:\u001b[0m\u001b[0;34m\u001b[0m\u001b[0;34m\u001b[0m\u001b[0m\n\u001b[1;32m    680\u001b[0m         \u001b[0;31m# Add the field back to the command.\u001b[0m\u001b[0;34m\u001b[0m\u001b[0;34m\u001b[0m\u001b[0;34m\u001b[0m\u001b[0m\n",
      "\u001b[0;31mInvalidDocument\u001b[0m: cannot encode object: array([4., 0., 0., 7.]), of type: <class 'numpy.ndarray'>"
     ]
    }
   ],
   "source": [
    "for team, record in zip(alph_teams_2011, outcomes):\n",
    "    update_db(team, get_hist(record), 'histogram of wins and losses')\n",
    "    del(hist)"
   ]
  },
  {
   "cell_type": "markdown",
   "metadata": {},
   "source": [
    "Calling quits for this final part--have worked on it for 5+ hours with assistance from instructors to no avail."
   ]
  }
 ],
 "metadata": {
  "kernelspec": {
   "display_name": "Python 3",
   "language": "python",
   "name": "python3"
  },
  "language_info": {
   "codemirror_mode": {
    "name": "ipython",
    "version": 3
   },
   "file_extension": ".py",
   "mimetype": "text/x-python",
   "name": "python",
   "nbconvert_exporter": "python",
   "pygments_lexer": "ipython3",
   "version": "3.7.1"
  }
 },
 "nbformat": 4,
 "nbformat_minor": 2
}
